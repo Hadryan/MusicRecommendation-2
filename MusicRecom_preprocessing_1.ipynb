{
 "cells": [
  {
   "cell_type": "code",
   "execution_count": 1,
   "metadata": {},
   "outputs": [],
   "source": [
    "import tensorflow as tf"
   ]
  },
  {
   "cell_type": "code",
   "execution_count": 2,
   "metadata": {
    "colab": {
     "base_uri": "https://localhost:8080/",
     "height": 52
    },
    "colab_type": "code",
    "executionInfo": {
     "elapsed": 2933,
     "status": "ok",
     "timestamp": 1600958021999,
     "user": {
      "displayName": "Sai Meghana Reppala",
      "photoUrl": "",
      "userId": "02699887557395051804"
     },
     "user_tz": -330
    },
    "id": "ldSHex3Wu6kM",
    "outputId": "30d03692-3b3f-4dd1-d197-2daec609305f"
   },
   "outputs": [],
   "source": [
    "import pandas as pd\n",
    "import seaborn as sns\n",
    "import matplotlib.pyplot as plt\n",
    "import pickle\n",
    "import numpy as np\n",
    "import warnings\n",
    "warnings.filterwarnings('ignore')"
   ]
  },
  {
   "cell_type": "markdown",
   "metadata": {
    "colab_type": "text",
    "id": "Xn2ikGU3vnNN"
   },
   "source": [
    "# New section"
   ]
  },
  {
   "cell_type": "markdown",
   "metadata": {
    "colab_type": "text",
    "id": "A3TxQLsLfUDe"
   },
   "source": []
  },
  {
   "cell_type": "markdown",
   "metadata": {
    "colab": {},
    "colab_type": "code",
    "id": "mboZWM9HfcjR"
   },
   "source": [
    "train = pd.read_csv('train.csv')\n",
    "song_data = pd.read_csv('songs.csv')\n",
    "user_data = pd.read_csv('members.csv')\n",
    "song_extra = pd.read_csv('song_extra_info.csv')\n",
    "df = pd.merge(train, song_data , on = 'song_id', how = 'left')\n",
    "df = pd.merge(df , user_data, on = 'msno', how = 'left')\n",
    "df = pd.merge(df , song_extra, on = 'song_id', how = 'left')\n",
    "df.to_csv('Train_new.csv')"
   ]
  },
  {
   "cell_type": "markdown",
   "metadata": {},
   "source": [
    "test = pd.read_csv('test.csv')\n",
    "song_data = pd.read_csv('songs.csv')\n",
    "user_data = pd.read_csv('members.csv')\n",
    "song_extra = pd.read_csv('song_extra_info.csv')\n",
    "df2 = pd.merge(test, song_data , on = 'song_id', how = 'left')\n",
    "df2 = pd.merge(df2 , user_data, on = 'msno', how = 'left')\n",
    "df2 = pd.merge(df2 , song_extra, on = 'song_id', how = 'left')\n",
    "df2.to_csv('Test_new.csv')"
   ]
  },
  {
   "cell_type": "code",
   "execution_count": 3,
   "metadata": {
    "colab": {
     "base_uri": "https://localhost:8080/",
     "height": 35
    },
    "colab_type": "code",
    "executionInfo": {
     "elapsed": 30431,
     "status": "ok",
     "timestamp": 1600958049520,
     "user": {
      "displayName": "Sai Meghana Reppala",
      "photoUrl": "",
      "userId": "02699887557395051804"
     },
     "user_tz": -330
    },
    "id": "16pti-JQJpoG",
    "outputId": "3f3c63d4-35a8-42a1-bd57-e262d0ed285c"
   },
   "outputs": [],
   "source": [
    "#from google.colab import drive\n",
    "#drive.mount('/content/drive')\n",
    "#df = pd.read_csv('/content/drive/My Drive/appliedai/assignments/music/combined.csv')"
   ]
  },
  {
   "cell_type": "code",
   "execution_count": 4,
   "metadata": {},
   "outputs": [
    {
     "data": {
      "text/plain": [
       "(7377418, 21)"
      ]
     },
     "execution_count": 4,
     "metadata": {},
     "output_type": "execute_result"
    }
   ],
   "source": [
    "df_tr = pd.read_csv('Train_new.csv',parse_dates=['registration_init_time','expiration_date'])\n",
    "df_tr.shape"
   ]
  },
  {
   "cell_type": "code",
   "execution_count": 5,
   "metadata": {
    "colab": {
     "base_uri": "https://localhost:8080/",
     "height": 121
    },
    "colab_type": "code",
    "executionInfo": {
     "elapsed": 959,
     "status": "ok",
     "timestamp": 1600958115267,
     "user": {
      "displayName": "Sai Meghana Reppala",
      "photoUrl": "",
      "userId": "02699887557395051804"
     },
     "user_tz": -330
    },
    "id": "yyLaC_0Lu6kf",
    "outputId": "b34adea1-71e2-4dac-e2ab-b29e8ff8bdea"
   },
   "outputs": [
    {
     "data": {
      "text/plain": [
       "Index(['Unnamed: 0', 'msno', 'song_id', 'source_system_tab',\n",
       "       'source_screen_name', 'source_type', 'target', 'song_length',\n",
       "       'genre_ids', 'artist_name', 'composer', 'lyricist', 'language', 'city',\n",
       "       'bd', 'gender', 'registered_via', 'registration_init_time',\n",
       "       'expiration_date', 'name', 'isrc'],\n",
       "      dtype='object')"
      ]
     },
     "execution_count": 5,
     "metadata": {},
     "output_type": "execute_result"
    }
   ],
   "source": [
    "df_tr.columns"
   ]
  },
  {
   "cell_type": "code",
   "execution_count": 6,
   "metadata": {
    "colab": {
     "base_uri": "https://localhost:8080/",
     "height": 1000
    },
    "colab_type": "code",
    "executionInfo": {
     "elapsed": 2027,
     "status": "ok",
     "timestamp": 1600958119891,
     "user": {
      "displayName": "Sai Meghana Reppala",
      "photoUrl": "",
      "userId": "02699887557395051804"
     },
     "user_tz": -330
    },
    "id": "WRE6VgeaiFoG",
    "outputId": "5a2ae81a-d182-40f0-cbdb-45c34a5de352"
   },
   "outputs": [],
   "source": [
    "#df = df.drop(labels= 'Unnamed: 0', axis = 1)"
   ]
  },
  {
   "cell_type": "code",
   "execution_count": 7,
   "metadata": {},
   "outputs": [
    {
     "data": {
      "text/plain": [
       "(2556790, 21)"
      ]
     },
     "execution_count": 7,
     "metadata": {},
     "output_type": "execute_result"
    }
   ],
   "source": [
    "df_te = pd.read_csv('Test_new.csv',parse_dates=['registration_init_time','expiration_date'])\n",
    "df_te.shape"
   ]
  },
  {
   "cell_type": "code",
   "execution_count": 8,
   "metadata": {},
   "outputs": [
    {
     "data": {
      "text/plain": [
       "Index(['Unnamed: 0', 'id', 'msno', 'song_id', 'source_system_tab',\n",
       "       'source_screen_name', 'source_type', 'song_length', 'genre_ids',\n",
       "       'artist_name', 'composer', 'lyricist', 'language', 'city', 'bd',\n",
       "       'gender', 'registered_via', 'registration_init_time', 'expiration_date',\n",
       "       'name', 'isrc'],\n",
       "      dtype='object')"
      ]
     },
     "execution_count": 8,
     "metadata": {},
     "output_type": "execute_result"
    }
   ],
   "source": [
    "df_te.columns"
   ]
  },
  {
   "cell_type": "code",
   "execution_count": 9,
   "metadata": {},
   "outputs": [],
   "source": [
    "df_tr = df_tr.drop(labels = 'Unnamed: 0', axis = 1)"
   ]
  },
  {
   "cell_type": "code",
   "execution_count": 10,
   "metadata": {},
   "outputs": [
    {
     "data": {
      "text/plain": [
       "((7377418, 20), (2556790, 19))"
      ]
     },
     "execution_count": 10,
     "metadata": {},
     "output_type": "execute_result"
    }
   ],
   "source": [
    "df_te = df_te.drop(labels= ['Unnamed: 0', 'id'], axis = 1)\n",
    "df_tr.shape, df_te.shape"
   ]
  },
  {
   "cell_type": "code",
   "execution_count": 11,
   "metadata": {
    "colab": {
     "base_uri": "https://localhost:8080/",
     "height": 380
    },
    "colab_type": "code",
    "executionInfo": {
     "elapsed": 48894,
     "status": "error",
     "timestamp": 1600958174732,
     "user": {
      "displayName": "Sai Meghana Reppala",
      "photoUrl": "",
      "userId": "02699887557395051804"
     },
     "user_tz": -330
    },
    "id": "ki3g3PRlu6kn",
    "outputId": "9211cabd-194b-4e97-8703-33a977c4777a"
   },
   "outputs": [
    {
     "data": {
      "text/html": [
       "<div>\n",
       "<style scoped>\n",
       "    .dataframe tbody tr th:only-of-type {\n",
       "        vertical-align: middle;\n",
       "    }\n",
       "\n",
       "    .dataframe tbody tr th {\n",
       "        vertical-align: top;\n",
       "    }\n",
       "\n",
       "    .dataframe thead th {\n",
       "        text-align: right;\n",
       "    }\n",
       "</style>\n",
       "<table border=\"1\" class=\"dataframe\">\n",
       "  <thead>\n",
       "    <tr style=\"text-align: right;\">\n",
       "      <th></th>\n",
       "      <th>msno</th>\n",
       "      <th>song_id</th>\n",
       "      <th>source_system_tab</th>\n",
       "      <th>source_screen_name</th>\n",
       "      <th>source_type</th>\n",
       "      <th>target</th>\n",
       "      <th>song_length</th>\n",
       "      <th>genre_ids</th>\n",
       "      <th>artist_name</th>\n",
       "      <th>composer</th>\n",
       "      <th>lyricist</th>\n",
       "      <th>language</th>\n",
       "      <th>city</th>\n",
       "      <th>bd</th>\n",
       "      <th>gender</th>\n",
       "      <th>registered_via</th>\n",
       "      <th>registration_init_time</th>\n",
       "      <th>expiration_date</th>\n",
       "      <th>name</th>\n",
       "      <th>isrc</th>\n",
       "    </tr>\n",
       "  </thead>\n",
       "  <tbody>\n",
       "  </tbody>\n",
       "</table>\n",
       "</div>"
      ],
      "text/plain": [
       "Empty DataFrame\n",
       "Columns: [msno, song_id, source_system_tab, source_screen_name, source_type, target, song_length, genre_ids, artist_name, composer, lyricist, language, city, bd, gender, registered_via, registration_init_time, expiration_date, name, isrc]\n",
       "Index: []"
      ]
     },
     "execution_count": 11,
     "metadata": {},
     "output_type": "execute_result"
    }
   ],
   "source": [
    "# checking for duplicates\n",
    "df_tr[df_tr.duplicated(['msno','song_id'])]\n",
    "# No duplicates"
   ]
  },
  {
   "cell_type": "code",
   "execution_count": 12,
   "metadata": {},
   "outputs": [
    {
     "data": {
      "text/html": [
       "<div>\n",
       "<style scoped>\n",
       "    .dataframe tbody tr th:only-of-type {\n",
       "        vertical-align: middle;\n",
       "    }\n",
       "\n",
       "    .dataframe tbody tr th {\n",
       "        vertical-align: top;\n",
       "    }\n",
       "\n",
       "    .dataframe thead th {\n",
       "        text-align: right;\n",
       "    }\n",
       "</style>\n",
       "<table border=\"1\" class=\"dataframe\">\n",
       "  <thead>\n",
       "    <tr style=\"text-align: right;\">\n",
       "      <th></th>\n",
       "      <th>msno</th>\n",
       "      <th>song_id</th>\n",
       "      <th>source_system_tab</th>\n",
       "      <th>source_screen_name</th>\n",
       "      <th>source_type</th>\n",
       "      <th>song_length</th>\n",
       "      <th>genre_ids</th>\n",
       "      <th>artist_name</th>\n",
       "      <th>composer</th>\n",
       "      <th>lyricist</th>\n",
       "      <th>language</th>\n",
       "      <th>city</th>\n",
       "      <th>bd</th>\n",
       "      <th>gender</th>\n",
       "      <th>registered_via</th>\n",
       "      <th>registration_init_time</th>\n",
       "      <th>expiration_date</th>\n",
       "      <th>name</th>\n",
       "      <th>isrc</th>\n",
       "    </tr>\n",
       "  </thead>\n",
       "  <tbody>\n",
       "  </tbody>\n",
       "</table>\n",
       "</div>"
      ],
      "text/plain": [
       "Empty DataFrame\n",
       "Columns: [msno, song_id, source_system_tab, source_screen_name, source_type, song_length, genre_ids, artist_name, composer, lyricist, language, city, bd, gender, registered_via, registration_init_time, expiration_date, name, isrc]\n",
       "Index: []"
      ]
     },
     "execution_count": 12,
     "metadata": {},
     "output_type": "execute_result"
    }
   ],
   "source": [
    "df_te[df_te.duplicated(['msno','song_id'])]\n",
    "# No dupilcates ti test data"
   ]
  },
  {
   "cell_type": "code",
   "execution_count": 13,
   "metadata": {},
   "outputs": [],
   "source": [
    "def change_type(df):\n",
    "    df['city'] = df['city'].astype(np.int8)\n",
    "    df['bd'] = df['bd'].astype(np.int16)\n",
    "    df['registered_via'] = df['registered_via'].astype(np.int8)"
   ]
  },
  {
   "cell_type": "code",
   "execution_count": 14,
   "metadata": {
    "colab": {},
    "colab_type": "code",
    "id": "o_4D44fSu6kq"
   },
   "outputs": [],
   "source": [
    "change_type(df_tr)\n",
    "change_type(df_te)"
   ]
  },
  {
   "cell_type": "code",
   "execution_count": 15,
   "metadata": {},
   "outputs": [
    {
     "data": {
      "text/plain": [
       "0           1\n",
       "1          13\n",
       "2          13\n",
       "3          13\n",
       "4           1\n",
       "           ..\n",
       "7377413     4\n",
       "7377414     1\n",
       "7377415     1\n",
       "7377416     5\n",
       "7377417     5\n",
       "Name: city, Length: 7377418, dtype: int8"
      ]
     },
     "execution_count": 15,
     "metadata": {},
     "output_type": "execute_result"
    }
   ],
   "source": [
    "df_tr['city']"
   ]
  },
  {
   "cell_type": "markdown",
   "metadata": {
    "colab_type": "text",
    "id": "f7h3zerAu6kt"
   },
   "source": [
    "####  Checking for the unbalances in the data"
   ]
  },
  {
   "cell_type": "code",
   "execution_count": 16,
   "metadata": {
    "colab": {
     "base_uri": "https://localhost:8080/",
     "height": 294
    },
    "colab_type": "code",
    "executionInfo": {
     "elapsed": 254519,
     "status": "ok",
     "timestamp": 1600689245968,
     "user": {
      "displayName": "Sai Meghana Reppala",
      "photoUrl": "",
      "userId": "02699887557395051804"
     },
     "user_tz": -330
    },
    "id": "YqtuQErMu6kt",
    "outputId": "23bc7d6a-aced-416e-8e59-fc91277fc1f3"
   },
   "outputs": [
    {
     "data": {
      "text/plain": [
       "<AxesSubplot:>"
      ]
     },
     "execution_count": 16,
     "metadata": {},
     "output_type": "execute_result"
    },
    {
     "data": {
      "image/png": "[encoded data removed]",
      "text/plain": [
       "<Figure size 432x288 with 1 Axes>"
      ]
     },
     "metadata": {
      "needs_background": "light"
     },
     "output_type": "display_data"
    }
   ],
   "source": [
    "x = pd.value_counts(df_tr['target']).astype('int')\n",
    "y = df_tr.target.unique()\n",
    "sns.barplot(y,x.values)"
   ]
  },
  {
   "cell_type": "markdown",
   "metadata": {
    "colab_type": "text",
    "id": "awH8CsjPu6kw"
   },
   "source": [
    "Both the classes have almost same amount of datapoints.So our data is balanced"
   ]
  },
  {
   "cell_type": "code",
   "execution_count": 17,
   "metadata": {},
   "outputs": [
    {
     "name": "stdout",
     "output_type": "stream",
     "text": [
      "max length of the song in min in train: 180.86176666666665\n",
      "min length of the song in min in train: 0.023216666666666667\n"
     ]
    }
   ],
   "source": [
    "print('max length of the song in min in train:',df_tr['song_length'].max()/60000)\n",
    "print('min length of the song in min in train:',df_tr['song_length'].min()/60000)"
   ]
  },
  {
   "cell_type": "code",
   "execution_count": 18,
   "metadata": {
    "colab": {
     "base_uri": "https://localhost:8080/",
     "height": 52
    },
    "colab_type": "code",
    "executionInfo": {
     "elapsed": 254502,
     "status": "ok",
     "timestamp": 1600689245972,
     "user": {
      "displayName": "Sai Meghana Reppala",
      "photoUrl": "",
      "userId": "02699887557395051804"
     },
     "user_tz": -330
    },
    "id": "itxY3xEEu6kx",
    "outputId": "c1db0522-0470-4553-b922-0792746b23ac"
   },
   "outputs": [
    {
     "name": "stdout",
     "output_type": "stream",
     "text": [
      "max length of the song in min in test: 122.61528333333334\n",
      "min length of the song in min in test: 0.024766666666666666\n"
     ]
    }
   ],
   "source": [
    "print('max length of the song in min in test:',df_te['song_length'].max()/60000)\n",
    "print('min length of the song in min in test:',df_te['song_length'].min()/60000)"
   ]
  },
  {
   "cell_type": "code",
   "execution_count": 19,
   "metadata": {
    "colab": {
     "base_uri": "https://localhost:8080/",
     "height": 625
    },
    "colab_type": "code",
    "executionInfo": {
     "elapsed": 258064,
     "status": "ok",
     "timestamp": 1600689249559,
     "user": {
      "displayName": "Sai Meghana Reppala",
      "photoUrl": "",
      "userId": "02699887557395051804"
     },
     "user_tz": -330
    },
    "id": "grcF-xEbu6k1",
    "outputId": "c4d26bb9-2fac-4573-e098-36221dbc71a0"
   },
   "outputs": [
    {
     "data": {
      "text/plain": [
       "<AxesSubplot:xlabel='song_length', ylabel='Density'>"
      ]
     },
     "execution_count": 19,
     "metadata": {},
     "output_type": "execute_result"
    },
    {
     "data": {
      "image/png": "[encoded data removed]",
      "text/plain": [
       "<Figure size 1296x1080 with 1 Axes>"
      ]
     },
     "metadata": {
      "needs_background": "light"
     },
     "output_type": "display_data"
    }
   ],
   "source": [
    "plt.figure(figsize = (18,15))\n",
    "sns.distplot(df_tr['song_length']/ 60000, kde = True)"
   ]
  },
  {
   "cell_type": "markdown",
   "metadata": {
    "colab_type": "text",
    "id": "916WWLGEu6k4"
   },
   "source": [
    "## Dealing with the missing values"
   ]
  },
  {
   "cell_type": "code",
   "execution_count": 20,
   "metadata": {
    "colab": {
     "base_uri": "https://localhost:8080/",
     "height": 397
    },
    "colab_type": "code",
    "executionInfo": {
     "elapsed": 5031,
     "status": "ok",
     "timestamp": 1600689718956,
     "user": {
      "displayName": "Sai Meghana Reppala",
      "photoUrl": "",
      "userId": "02699887557395051804"
     },
     "user_tz": -330
    },
    "id": "wZTc1j4Ou6k4",
    "outputId": "62d30cc8-b696-4fbf-c104-48a808994d31"
   },
   "outputs": [
    {
     "data": {
      "text/plain": [
       "msno                      0.000000\n",
       "song_id                   0.000000\n",
       "source_system_tab         0.003368\n",
       "source_screen_name        0.056226\n",
       "source_type               0.002920\n",
       "target                    0.000000\n",
       "song_length               0.000015\n",
       "genre_ids                 0.016056\n",
       "artist_name               0.000015\n",
       "composer                  0.227140\n",
       "lyricist                  0.430882\n",
       "language                  0.000020\n",
       "city                      0.000000\n",
       "bd                        0.000000\n",
       "gender                    0.401425\n",
       "registered_via            0.000000\n",
       "registration_init_time    0.000000\n",
       "expiration_date           0.000000\n",
       "name                      0.000197\n",
       "isrc                      0.078328\n",
       "dtype: float64"
      ]
     },
     "execution_count": 20,
     "metadata": {},
     "output_type": "execute_result"
    }
   ],
   "source": [
    "# Checking for Nans in each feature\n",
    "df_tr.isna().sum()/ len(df_tr)"
   ]
  },
  {
   "cell_type": "code",
   "execution_count": 21,
   "metadata": {},
   "outputs": [
    {
     "data": {
      "text/plain": [
       "msno                      0.000000\n",
       "song_id                   0.000000\n",
       "source_system_tab         0.003302\n",
       "source_screen_name        0.063706\n",
       "source_type               0.002854\n",
       "song_length               0.000010\n",
       "genre_ids                 0.016470\n",
       "artist_name               0.000010\n",
       "composer                  0.242219\n",
       "lyricist                  0.479016\n",
       "language                  0.000016\n",
       "city                      0.000000\n",
       "bd                        0.000000\n",
       "gender                    0.411541\n",
       "registered_via            0.000000\n",
       "registration_init_time    0.000000\n",
       "expiration_date           0.000000\n",
       "name                      0.000304\n",
       "isrc                      0.076910\n",
       "dtype: float64"
      ]
     },
     "execution_count": 21,
     "metadata": {},
     "output_type": "execute_result"
    }
   ],
   "source": [
    "df_te.isna().sum()/ len(df_te)"
   ]
  },
  {
   "cell_type": "markdown",
   "metadata": {},
   "source": [
    "### Preprocessing features: source_system_tab"
   ]
  },
  {
   "cell_type": "code",
   "execution_count": 22,
   "metadata": {},
   "outputs": [],
   "source": [
    "# This function fills the Nan values with specified fill value and removes punctuations from the labels\n",
    "def preprocessing1(df, feature, fill_value):\n",
    "    df[feature] = df[feature].fillna(value = fill_value)\n",
    "    df[feature] = df[feature].astype('str').apply( lambda x: x.replace( '(','').replace( ')','').replace('-','').replace('|','_').replace('.', '').replace('/','').replace(' ','_').lower())"
   ]
  },
  {
   "cell_type": "code",
   "execution_count": 23,
   "metadata": {},
   "outputs": [
    {
     "data": {
      "text/plain": [
       "my_library      3684730\n",
       "discover        2179252\n",
       "search           623286\n",
       "radio            476701\n",
       "listen_with      212266\n",
       "explore          167949\n",
       "no_info           24849\n",
       "notification       6185\n",
       "settings           2200\n",
       "Name: source_system_tab, dtype: int64"
      ]
     },
     "execution_count": 23,
     "metadata": {},
     "output_type": "execute_result"
    }
   ],
   "source": [
    "preprocessing1(df_tr, 'source_system_tab', 'no info')\n",
    "df_tr['source_system_tab'].value_counts()"
   ]
  },
  {
   "cell_type": "code",
   "execution_count": 24,
   "metadata": {
    "colab": {
     "base_uri": "https://localhost:8080/",
     "height": 173
    },
    "colab_type": "code",
    "executionInfo": {
     "elapsed": 1801,
     "status": "ok",
     "timestamp": 1600689724319,
     "user": {
      "displayName": "Sai Meghana Reppala",
      "photoUrl": "",
      "userId": "02699887557395051804"
     },
     "user_tz": -330
    },
    "id": "3VIJy-oMu6k8",
    "outputId": "62ac38fa-d191-4d75-e001-7d31077900d9"
   },
   "outputs": [
    {
     "data": {
      "text/plain": [
       "my_library      1019492\n",
       "discover         871068\n",
       "search           277615\n",
       "radio            212765\n",
       "listen_with       98628\n",
       "explore           66023\n",
       "no_info            8442\n",
       "notification       2124\n",
       "settings            633\n",
       "Name: source_system_tab, dtype: int64"
      ]
     },
     "execution_count": 24,
     "metadata": {},
     "output_type": "execute_result"
    }
   ],
   "source": [
    "preprocessing1(df_te, 'source_system_tab', 'no info')\n",
    "df_te['source_system_tab'].value_counts()"
   ]
  },
  {
   "cell_type": "markdown",
   "metadata": {},
   "source": [
    "### Preprocessing features : source_screen_name"
   ]
  },
  {
   "cell_type": "code",
   "execution_count": 25,
   "metadata": {
    "colab": {},
    "colab_type": "code",
    "id": "8FB5wYDWu6lH"
   },
   "outputs": [
    {
     "data": {
      "text/plain": [
       "local_playlist_more     3228202\n",
       "online_playlist_more    1294689\n",
       "radio                    474467\n",
       "album_more               420156\n",
       "no_info                  414804\n",
       "search                   298487\n",
       "artist_more              252429\n",
       "discover_feature         244246\n",
       "discover_chart           213658\n",
       "others_profile_more      201795\n",
       "discover_genre            82202\n",
       "my_library                75980\n",
       "explore                   72342\n",
       "unknown                   54170\n",
       "discover_new              15955\n",
       "search_trends             13632\n",
       "search_home               13482\n",
       "my_library_search          6451\n",
       "self_profile_more           212\n",
       "concert                      47\n",
       "payment                      12\n",
       "Name: source_screen_name, dtype: int64"
      ]
     },
     "execution_count": 25,
     "metadata": {},
     "output_type": "execute_result"
    }
   ],
   "source": [
    "# Treating Nan values as another category and\n",
    "# filling nan values with a new category name 'no info'\n",
    "preprocessing1(df_tr, 'source_screen_name', 'no info')\n",
    "df_tr['source_screen_name'].value_counts()"
   ]
  },
  {
   "cell_type": "code",
   "execution_count": 26,
   "metadata": {
    "colab": {
     "base_uri": "https://localhost:8080/",
     "height": 35
    },
    "colab_type": "code",
    "executionInfo": {
     "elapsed": 1664,
     "status": "ok",
     "timestamp": 1600689727694,
     "user": {
      "displayName": "Sai Meghana Reppala",
      "photoUrl": "",
      "userId": "02699887557395051804"
     },
     "user_tz": -330
    },
    "id": "NWWqZRMau6lK",
    "outputId": "a3fc72a3-28eb-486c-9ea7-0f8d32534e73"
   },
   "outputs": [
    {
     "data": {
      "text/plain": [
       "local_playlist_more     845115\n",
       "online_playlist_more    529807\n",
       "radio                   211201\n",
       "album_more              176129\n",
       "no_info                 162883\n",
       "search                  121982\n",
       "artist_more             110999\n",
       "discover_feature         93401\n",
       "others_profile_more      90457\n",
       "discover_chart           78999\n",
       "discover_genre           41617\n",
       "explore                  27872\n",
       "my_library               25559\n",
       "unknown                  23620\n",
       "discover_new              5277\n",
       "search_trends             4883\n",
       "search_home               4705\n",
       "my_library_search         2114\n",
       "self_profile_more          131\n",
       "concert                     13\n",
       "people_local                13\n",
       "payment                     12\n",
       "people_global                1\n",
       "Name: source_screen_name, dtype: int64"
      ]
     },
     "execution_count": 26,
     "metadata": {},
     "output_type": "execute_result"
    }
   ],
   "source": [
    "preprocessing1(df_te, 'source_screen_name', 'no info')\n",
    "df_te['source_screen_name'].value_counts()"
   ]
  },
  {
   "cell_type": "markdown",
   "metadata": {},
   "source": [
    "### Preprocessing features: source_type"
   ]
  },
  {
   "cell_type": "code",
   "execution_count": 27,
   "metadata": {
    "colab": {
     "base_uri": "https://localhost:8080/",
     "height": 242
    },
    "colab_type": "code",
    "executionInfo": {
     "elapsed": 1704,
     "status": "ok",
     "timestamp": 1600689730408,
     "user": {
      "displayName": "Sai Meghana Reppala",
      "photoUrl": "",
      "userId": "02699887557395051804"
     },
     "user_tz": -330
    },
    "id": "6LPCQmJIu6lM",
    "outputId": "4a4d73da-d4c7-41c2-db45-e6aff21a292b"
   },
   "outputs": [
    {
     "data": {
      "text/plain": [
       "array(['online-playlist', 'local-playlist', 'local-library',\n",
       "       'top-hits-for-artist', 'album', nan, 'song-based-playlist',\n",
       "       'radio', 'song', 'listen-with', 'artist', 'topic-article-playlist',\n",
       "       'my-daily-playlist'], dtype=object)"
      ]
     },
     "execution_count": 27,
     "metadata": {},
     "output_type": "execute_result"
    }
   ],
   "source": [
    "df_tr['source_type'].unique()"
   ]
  },
  {
   "cell_type": "code",
   "execution_count": 28,
   "metadata": {
    "colab": {
     "base_uri": "https://localhost:8080/",
     "height": 35
    },
    "colab_type": "code",
    "executionInfo": {
     "elapsed": 1703,
     "status": "ok",
     "timestamp": 1600689730907,
     "user": {
      "displayName": "Sai Meghana Reppala",
      "photoUrl": "",
      "userId": "02699887557395051804"
     },
     "user_tz": -330
    },
    "id": "kPW_eZxxu6lP",
    "outputId": "8a1014f8-285f-4013-8b45-b58f8e8a4722"
   },
   "outputs": [
    {
     "data": {
      "text/plain": [
       "locallibrary            2261399\n",
       "onlineplaylist          1967924\n",
       "localplaylist           1079503\n",
       "radio                    483109\n",
       "album                    477344\n",
       "tophitsforartist         423614\n",
       "song                     244722\n",
       "songbasedplaylist        210527\n",
       "listenwith               192842\n",
       "unavailable               21539\n",
       "topicarticleplaylist      11194\n",
       "artist                     3038\n",
       "mydailyplaylist             663\n",
       "Name: source_type, dtype: int64"
      ]
     },
     "execution_count": 28,
     "metadata": {},
     "output_type": "execute_result"
    }
   ],
   "source": [
    "# Removing symbols and filling Nan values with 'unavailble'\n",
    "preprocessing1(df_tr, 'source_type', 'unavailable')\n",
    "df_tr['source_type'].value_counts()"
   ]
  },
  {
   "cell_type": "code",
   "execution_count": 29,
   "metadata": {},
   "outputs": [
    {
     "data": {
      "text/plain": [
       "onlineplaylist          774532\n",
       "locallibrary            582346\n",
       "localplaylist           294537\n",
       "radio                   215164\n",
       "album                   195190\n",
       "tophitsforartist        179360\n",
       "song                    129153\n",
       "songbasedplaylist        87179\n",
       "listenwith               84499\n",
       "unavailable               7297\n",
       "topicarticleplaylist      5082\n",
       "mydailyplaylist           2023\n",
       "artist                     428\n",
       "Name: source_type, dtype: int64"
      ]
     },
     "execution_count": 29,
     "metadata": {},
     "output_type": "execute_result"
    }
   ],
   "source": [
    "preprocessing1(df_te, 'source_type', 'unavailable')\n",
    "df_te['source_type'].value_counts()"
   ]
  },
  {
   "cell_type": "markdown",
   "metadata": {},
   "source": [
    "### Preprocessing features: song_length"
   ]
  },
  {
   "cell_type": "code",
   "execution_count": 30,
   "metadata": {
    "colab": {
     "base_uri": "https://localhost:8080/",
     "height": 35
    },
    "colab_type": "code",
    "executionInfo": {
     "elapsed": 4013,
     "status": "ok",
     "timestamp": 1600689734253,
     "user": {
      "displayName": "Sai Meghana Reppala",
      "photoUrl": "",
      "userId": "02699887557395051804"
     },
     "user_tz": -330
    },
    "id": "Mlel4z-Eu6lU",
    "outputId": "d072bb20-b4bb-457b-8f79-c255a653f2a4"
   },
   "outputs": [
    {
     "data": {
      "text/plain": [
       "(0, 0)"
      ]
     },
     "execution_count": 30,
     "metadata": {},
     "output_type": "execute_result"
    }
   ],
   "source": [
    "# filling Nan with median value of training data\n",
    "m = df_tr['song_length'].median()\n",
    "df_tr['song_length'].fillna(value = m , inplace = True)\n",
    "df_te['song_length'].fillna(value = m , inplace = True)\n",
    "df_tr['song_length'].isna().sum(), df_te['song_length'].isna().sum()"
   ]
  },
  {
   "cell_type": "markdown",
   "metadata": {},
   "source": [
    "### Preprocessing features: genre_ids"
   ]
  },
  {
   "cell_type": "code",
   "execution_count": 31,
   "metadata": {},
   "outputs": [
    {
     "data": {
      "text/plain": [
       "10        465\n",
       "11        465\n",
       "12        465\n",
       "13        458\n",
       "14    465|458\n",
       "15        465\n",
       "16        465\n",
       "17        458\n",
       "18        465\n",
       "19        465\n",
       "Name: genre_ids, dtype: object"
      ]
     },
     "execution_count": 31,
     "metadata": {},
     "output_type": "execute_result"
    }
   ],
   "source": [
    "df_tr['genre_ids'][10:20]"
   ]
  },
  {
   "cell_type": "code",
   "execution_count": 32,
   "metadata": {
    "colab": {
     "base_uri": "https://localhost:8080/",
     "height": 225
    },
    "colab_type": "code",
    "executionInfo": {
     "elapsed": 4382,
     "status": "ok",
     "timestamp": 1600689735169,
     "user": {
      "displayName": "Sai Meghana Reppala",
      "photoUrl": "",
      "userId": "02699887557395051804"
     },
     "user_tz": -330
    },
    "id": "YJ7Udd-vu6lX",
    "outputId": "14c98ffa-8d07-4c92-a508-f1b6151e7300",
    "scrolled": true
   },
   "outputs": [],
   "source": [
    "df_tr['genre_ids'] = df_tr['genre_ids'].str.split('|').str[0]"
   ]
  },
  {
   "cell_type": "code",
   "execution_count": 33,
   "metadata": {},
   "outputs": [
    {
     "data": {
      "text/plain": [
       "'465'"
      ]
     },
     "execution_count": 33,
     "metadata": {},
     "output_type": "execute_result"
    }
   ],
   "source": [
    "df_tr['genre_ids'][14]"
   ]
  },
  {
   "cell_type": "code",
   "execution_count": 34,
   "metadata": {},
   "outputs": [],
   "source": [
    "df_te['genre_ids'] = df_te['genre_ids'].str.split('|').str[0]"
   ]
  },
  {
   "cell_type": "code",
   "execution_count": 35,
   "metadata": {},
   "outputs": [
    {
     "data": {
      "text/plain": [
       "465     3814444\n",
       "458     1266910\n",
       "921      400596\n",
       "1609     329134\n",
       "444      280278\n",
       "         ...   \n",
       "779           1\n",
       "1187          1\n",
       "338           1\n",
       "751           1\n",
       "87            1\n",
       "Name: genre_ids, Length: 159, dtype: int64"
      ]
     },
     "execution_count": 35,
     "metadata": {},
     "output_type": "execute_result"
    }
   ],
   "source": [
    "preprocessing1(df_tr, 'genre_ids', '000')\n",
    "df_tr['genre_ids'].value_counts()"
   ]
  },
  {
   "cell_type": "code",
   "execution_count": 36,
   "metadata": {},
   "outputs": [
    {
     "data": {
      "text/plain": [
       "465     1248185\n",
       "458      384869\n",
       "921      210334\n",
       "1609     121814\n",
       "444       98690\n",
       "         ...   \n",
       "1089          1\n",
       "677           1\n",
       "1000          1\n",
       "338           1\n",
       "2192          1\n",
       "Name: genre_ids, Length: 155, dtype: int64"
      ]
     },
     "execution_count": 36,
     "metadata": {},
     "output_type": "execute_result"
    }
   ],
   "source": [
    "preprocessing1(df_te, 'genre_ids', '000')\n",
    "df_te['genre_ids'].value_counts()"
   ]
  },
  {
   "cell_type": "markdown",
   "metadata": {},
   "source": [
    "### Preprocessing features:  artist_name"
   ]
  },
  {
   "cell_type": "code",
   "execution_count": 37,
   "metadata": {},
   "outputs": [
    {
     "data": {
      "text/plain": [
       "0                 Bastille\n",
       "1          Various Artists\n",
       "2                      Nas\n",
       "3                 Soundway\n",
       "4              Brett Young\n",
       "                ...       \n",
       "7377403         Kesha|Zedd\n",
       "7377404             Baauer\n",
       "7377405    Various Artists\n",
       "7377406             寶寶水晶音樂\n",
       "7377407               AMIT\n",
       "Name: artist_name, Length: 7377408, dtype: object"
      ]
     },
     "execution_count": 37,
     "metadata": {},
     "output_type": "execute_result"
    }
   ],
   "source": [
    "df_tr['artist_name'] [:-10]"
   ]
  },
  {
   "cell_type": "code",
   "execution_count": 38,
   "metadata": {},
   "outputs": [
    {
     "data": {
      "text/plain": [
       "0                 bastille\n",
       "1          various_artists\n",
       "2                      nas\n",
       "3                 soundway\n",
       "4              brett_young\n",
       "                ...       \n",
       "7377403         kesha_zedd\n",
       "7377404             baauer\n",
       "7377405    various_artists\n",
       "7377406             寶寶水晶音樂\n",
       "7377407               amit\n",
       "Name: artist_name, Length: 7377408, dtype: object"
      ]
     },
     "execution_count": 38,
     "metadata": {},
     "output_type": "execute_result"
    }
   ],
   "source": [
    "preprocessing1(df_tr, 'artist_name', 'no artist')\n",
    "df_tr['artist_name'][:-10]"
   ]
  },
  {
   "cell_type": "code",
   "execution_count": 39,
   "metadata": {
    "colab": {
     "base_uri": "https://localhost:8080/",
     "height": 35
    },
    "colab_type": "code",
    "executionInfo": {
     "elapsed": 6627,
     "status": "ok",
     "timestamp": 1600689739684,
     "user": {
      "displayName": "Sai Meghana Reppala",
      "photoUrl": "",
      "userId": "02699887557395051804"
     },
     "user_tz": -330
    },
    "id": "VSQXsPiFu6li",
    "outputId": "f541733a-97f4-46b4-b3f4-ffb26e1e6d8c"
   },
   "outputs": [
    {
     "data": {
      "text/plain": [
       "0          梁文音_rachel_liang\n",
       "1                林俊傑_jj_lin\n",
       "2          yu_takahashi_高橋優\n",
       "3                        u2\n",
       "4             yoga_mr_sound\n",
       "                 ...       \n",
       "2556775    暴君_bloody_tyrant\n",
       "2556776      郭富城_aaron_kwok\n",
       "2556777           berrygood\n",
       "2556778     various_artists\n",
       "2556779      彭佳慧_julia_peng\n",
       "Name: artist_name, Length: 2556780, dtype: object"
      ]
     },
     "execution_count": 39,
     "metadata": {},
     "output_type": "execute_result"
    }
   ],
   "source": [
    "preprocessing1(df_te, 'artist_name', 'no artist')\n",
    "df_te['artist_name'][:-10]"
   ]
  },
  {
   "cell_type": "markdown",
   "metadata": {},
   "source": [
    "### Preprocessing features:  composer "
   ]
  },
  {
   "cell_type": "code",
   "execution_count": 40,
   "metadata": {
    "colab": {
     "base_uri": "https://localhost:8080/",
     "height": 225
    },
    "colab_type": "code",
    "executionInfo": {
     "elapsed": 378356,
     "status": "ok",
     "timestamp": 1600689370419,
     "user": {
      "displayName": "Sai Meghana Reppala",
      "photoUrl": "",
      "userId": "02699887557395051804"
     },
     "user_tz": -330
    },
    "id": "4CViO0m6TiWp",
    "outputId": "e1bbb3e2-2307-4598-8f7f-e704a434f8c9",
    "scrolled": true
   },
   "outputs": [
    {
     "data": {
      "text/plain": [
       "'Noah Feldshuh| Casey Harris| Sam Harris| A. Grant| Adam Levin'"
      ]
     },
     "execution_count": 40,
     "metadata": {},
     "output_type": "execute_result"
    }
   ],
   "source": [
    "df_tr['composer'][7377405]"
   ]
  },
  {
   "cell_type": "code",
   "execution_count": 41,
   "metadata": {},
   "outputs": [
    {
     "data": {
      "text/plain": [
       "0                                       dan_smith__mark_crew\n",
       "1                                               notavailable\n",
       "2                           n_jones、w_adams、j_lordan、d_ingle\n",
       "3                                              kwadwo_donkoh\n",
       "4                    brett_young__kelly_archer__justin_ebach\n",
       "                                 ...                        \n",
       "7377403            anton_zaslavski__antonina_armato__t_price\n",
       "7377404                                         notavailable\n",
       "7377405    noah_feldshuh__casey_harris__sam_harris__a_gra...\n",
       "7377406                                         notavailable\n",
       "7377407                                            ai_li_shi\n",
       "Name: composer, Length: 7377408, dtype: object"
      ]
     },
     "execution_count": 41,
     "metadata": {},
     "output_type": "execute_result"
    }
   ],
   "source": [
    "preprocessing1(df_tr, 'composer', 'notavailable')\n",
    "df_tr['composer'][:-10]"
   ]
  },
  {
   "cell_type": "code",
   "execution_count": 42,
   "metadata": {},
   "outputs": [
    {
     "data": {
      "text/plain": [
       "0                                    qi_zheng_zhang\n",
       "1                                               林俊傑\n",
       "2                                      yu_takahashi\n",
       "3          the_edge__adam_clayton__larry_mullen__jr\n",
       "4                                       neuromancer\n",
       "                             ...                   \n",
       "2556775                                          暴君\n",
       "2556776                                         金培達\n",
       "2556777                                notavailable\n",
       "2556778               ira_gershwin__george_gershwin\n",
       "2556779                                         陳國華\n",
       "Name: composer, Length: 2556780, dtype: object"
      ]
     },
     "execution_count": 42,
     "metadata": {},
     "output_type": "execute_result"
    }
   ],
   "source": [
    "preprocessing1(df_te, 'composer', 'notavailable')\n",
    "df_te['composer'][:-10]"
   ]
  },
  {
   "cell_type": "code",
   "execution_count": 43,
   "metadata": {
    "colab": {
     "base_uri": "https://localhost:8080/",
     "height": 35
    },
    "colab_type": "code",
    "executionInfo": {
     "elapsed": 379000,
     "status": "ok",
     "timestamp": 1600689371084,
     "user": {
      "displayName": "Sai Meghana Reppala",
      "photoUrl": "",
      "userId": "02699887557395051804"
     },
     "user_tz": -330
    },
    "id": "6UKOQ6IbUIFU",
    "outputId": "c4f38f07-96fc-4d86-c12c-3e408a460be6"
   },
   "outputs": [
    {
     "data": {
      "text/plain": [
       "0"
      ]
     },
     "execution_count": 43,
     "metadata": {},
     "output_type": "execute_result"
    }
   ],
   "source": [
    "df_tr['composer'].isna().sum()"
   ]
  },
  {
   "cell_type": "markdown",
   "metadata": {
    "colab_type": "text",
    "id": "eHkAbtssUYpH"
   },
   "source": [
    "### Preprocessing features:  lyricist"
   ]
  },
  {
   "cell_type": "code",
   "execution_count": 44,
   "metadata": {},
   "outputs": [
    {
     "data": {
      "text/plain": [
       "0          notavailable\n",
       "1          notavailable\n",
       "2          notavailable\n",
       "3          notavailable\n",
       "4          notavailable\n",
       "               ...     \n",
       "7377403    notavailable\n",
       "7377404    notavailable\n",
       "7377405    notavailable\n",
       "7377406    notavailable\n",
       "7377407    notavailable\n",
       "Name: lyricist, Length: 7377408, dtype: object"
      ]
     },
     "execution_count": 44,
     "metadata": {},
     "output_type": "execute_result"
    }
   ],
   "source": [
    "preprocessing1(df_tr, 'lyricist', 'notavailable')\n",
    "df_tr['lyricist'][:-10]"
   ]
  },
  {
   "cell_type": "code",
   "execution_count": 45,
   "metadata": {},
   "outputs": [
    {
     "data": {
      "text/plain": [
       "0          notavailable\n",
       "1                孫燕姿易家揚\n",
       "2          yu_takahashi\n",
       "3          notavailable\n",
       "4          notavailable\n",
       "               ...     \n",
       "2556775              暴君\n",
       "2556776              小美\n",
       "2556777    notavailable\n",
       "2556778    notavailable\n",
       "2556779              娃娃\n",
       "Name: lyricist, Length: 2556780, dtype: object"
      ]
     },
     "execution_count": 45,
     "metadata": {},
     "output_type": "execute_result"
    }
   ],
   "source": [
    "preprocessing1(df_te, 'lyricist', 'notavailable')\n",
    "df_te['lyricist'][:-10]"
   ]
  },
  {
   "cell_type": "code",
   "execution_count": 46,
   "metadata": {
    "colab": {},
    "colab_type": "code",
    "id": "oUig9N2IUZlJ"
   },
   "outputs": [
    {
     "data": {
      "text/plain": [
       "notavailable                   3178798\n",
       "阿信                              151301\n",
       "方文山                             124108\n",
       "姚若龍                              62190\n",
       "周杰倫                              56235\n",
       "                                ...   \n",
       "許冠傑、黎彼得                              1\n",
       "eric_clapton_stephen_bishop          1\n",
       "eric_frederic_ammar_malick           1\n",
       "sean_pang                            1\n",
       "1sagain_donnie_j                     1\n",
       "Name: lyricist, Length: 33551, dtype: int64"
      ]
     },
     "execution_count": 46,
     "metadata": {},
     "output_type": "execute_result"
    }
   ],
   "source": [
    "df_tr['lyricist'].value_counts()"
   ]
  },
  {
   "cell_type": "markdown",
   "metadata": {},
   "source": [
    "### Preprocessing features:  ISRC code"
   ]
  },
  {
   "cell_type": "code",
   "execution_count": 47,
   "metadata": {},
   "outputs": [
    {
     "data": {
      "text/html": [
       "<div>\n",
       "<style scoped>\n",
       "    .dataframe tbody tr th:only-of-type {\n",
       "        vertical-align: middle;\n",
       "    }\n",
       "\n",
       "    .dataframe tbody tr th {\n",
       "        vertical-align: top;\n",
       "    }\n",
       "\n",
       "    .dataframe thead th {\n",
       "        text-align: right;\n",
       "    }\n",
       "</style>\n",
       "<table border=\"1\" class=\"dataframe\">\n",
       "  <thead>\n",
       "    <tr style=\"text-align: right;\">\n",
       "      <th></th>\n",
       "      <th>msno</th>\n",
       "      <th>song_id</th>\n",
       "      <th>source_system_tab</th>\n",
       "      <th>source_screen_name</th>\n",
       "      <th>source_type</th>\n",
       "      <th>target</th>\n",
       "      <th>song_length</th>\n",
       "      <th>genre_ids</th>\n",
       "      <th>artist_name</th>\n",
       "      <th>composer</th>\n",
       "      <th>...</th>\n",
       "      <th>language</th>\n",
       "      <th>city</th>\n",
       "      <th>bd</th>\n",
       "      <th>gender</th>\n",
       "      <th>registered_via</th>\n",
       "      <th>registration_init_time</th>\n",
       "      <th>expiration_date</th>\n",
       "      <th>name</th>\n",
       "      <th>isrc</th>\n",
       "      <th>country</th>\n",
       "    </tr>\n",
       "  </thead>\n",
       "  <tbody>\n",
       "    <tr>\n",
       "      <th>0</th>\n",
       "      <td>FGtllVqz18RPiwJj/edr2gV78zirAiY/9SmYvia+kCg=</td>\n",
       "      <td>BBzumQNXUHKdEBOB7mAJuzok+IJA1c2Ryg/yzTF6tik=</td>\n",
       "      <td>explore</td>\n",
       "      <td>explore</td>\n",
       "      <td>onlineplaylist</td>\n",
       "      <td>1</td>\n",
       "      <td>206471.0</td>\n",
       "      <td>359</td>\n",
       "      <td>bastille</td>\n",
       "      <td>dan_smith__mark_crew</td>\n",
       "      <td>...</td>\n",
       "      <td>52.0</td>\n",
       "      <td>1</td>\n",
       "      <td>0</td>\n",
       "      <td>NaN</td>\n",
       "      <td>7</td>\n",
       "      <td>2012-01-02</td>\n",
       "      <td>2017-10-05</td>\n",
       "      <td>Good Grief</td>\n",
       "      <td>GBUM71602854</td>\n",
       "      <td>GB</td>\n",
       "    </tr>\n",
       "    <tr>\n",
       "      <th>1</th>\n",
       "      <td>Xumu+NIjS6QYVxDS4/t3SawvJ7viT9hPKXmf0RtLNx8=</td>\n",
       "      <td>bhp/MpSNoqoxOIB+/l8WPqu6jldth4DIpCm3ayXnJqM=</td>\n",
       "      <td>my_library</td>\n",
       "      <td>local_playlist_more</td>\n",
       "      <td>localplaylist</td>\n",
       "      <td>1</td>\n",
       "      <td>284584.0</td>\n",
       "      <td>1259</td>\n",
       "      <td>various_artists</td>\n",
       "      <td>notavailable</td>\n",
       "      <td>...</td>\n",
       "      <td>52.0</td>\n",
       "      <td>13</td>\n",
       "      <td>24</td>\n",
       "      <td>female</td>\n",
       "      <td>9</td>\n",
       "      <td>2011-05-25</td>\n",
       "      <td>2017-09-11</td>\n",
       "      <td>Lords of Cardboard</td>\n",
       "      <td>US3C69910183</td>\n",
       "      <td>US</td>\n",
       "    </tr>\n",
       "  </tbody>\n",
       "</table>\n",
       "<p>2 rows × 21 columns</p>\n",
       "</div>"
      ],
      "text/plain": [
       "                                           msno  \\\n",
       "0  FGtllVqz18RPiwJj/edr2gV78zirAiY/9SmYvia+kCg=   \n",
       "1  Xumu+NIjS6QYVxDS4/t3SawvJ7viT9hPKXmf0RtLNx8=   \n",
       "\n",
       "                                        song_id source_system_tab  \\\n",
       "0  BBzumQNXUHKdEBOB7mAJuzok+IJA1c2Ryg/yzTF6tik=           explore   \n",
       "1  bhp/MpSNoqoxOIB+/l8WPqu6jldth4DIpCm3ayXnJqM=        my_library   \n",
       "\n",
       "    source_screen_name     source_type  target  song_length genre_ids  \\\n",
       "0              explore  onlineplaylist       1     206471.0       359   \n",
       "1  local_playlist_more   localplaylist       1     284584.0      1259   \n",
       "\n",
       "       artist_name              composer  ... language  city  bd  gender  \\\n",
       "0         bastille  dan_smith__mark_crew  ...     52.0     1   0     NaN   \n",
       "1  various_artists          notavailable  ...     52.0    13  24  female   \n",
       "\n",
       "  registered_via  registration_init_time expiration_date                name  \\\n",
       "0              7              2012-01-02      2017-10-05          Good Grief   \n",
       "1              9              2011-05-25      2017-09-11  Lords of Cardboard   \n",
       "\n",
       "           isrc country  \n",
       "0  GBUM71602854      GB  \n",
       "1  US3C69910183      US  \n",
       "\n",
       "[2 rows x 21 columns]"
      ]
     },
     "execution_count": 47,
     "metadata": {},
     "output_type": "execute_result"
    }
   ],
   "source": [
    "# Creating a new feature 'country' from isrc code\n",
    "df_tr['country'] = df_tr['isrc'].str[:2]\n",
    "df_te['country'] = df_te['isrc'].str[:2]\n",
    "df_tr.head(2)"
   ]
  },
  {
   "cell_type": "code",
   "execution_count": 48,
   "metadata": {},
   "outputs": [
    {
     "data": {
      "text/plain": [
       " 3.0     282128\n",
       "-1.0      83867\n",
       " 10.0     73758\n",
       " 31.0     69698\n",
       " 52.0     56371\n",
       " 17.0      9042\n",
       " 24.0      2984\n",
       " 45.0         1\n",
       "Name: language, dtype: int64"
      ]
     },
     "execution_count": 48,
     "metadata": {},
     "output_type": "execute_result"
    }
   ],
   "source": [
    "# Trying to fill NANs in Country based on the composer, artist_name, and language\n",
    "df_tr[df_tr['isrc'].isna()]['language'].value_counts()"
   ]
  },
  {
   "cell_type": "code",
   "execution_count": 49,
   "metadata": {},
   "outputs": [
    {
     "data": {
      "text/plain": [
       "US    1095864\n",
       "GB     351886\n",
       "QM      56917\n",
       "NO      33075\n",
       "NL      31888\n",
       "       ...   \n",
       "MT          1\n",
       "BK          1\n",
       "GN          1\n",
       "BZ          1\n",
       "OM          1\n",
       "Name: country, Length: 92, dtype: int64"
      ]
     },
     "execution_count": 49,
     "metadata": {},
     "output_type": "execute_result"
    }
   ],
   "source": [
    "df_tr[(df_tr['language'] == 52)]['country'].value_counts()"
   ]
  },
  {
   "cell_type": "code",
   "execution_count": 50,
   "metadata": {},
   "outputs": [],
   "source": [
    "def fillna_country(df2):\n",
    "    b = df2[df2['country'].isna()]['language'].value_counts().axes[0]\n",
    "    for l in b:\n",
    "        c = df2[(df2['language'] == l )]['country'].value_counts().idxmax()\n",
    "        df2.loc[df2.language == l, 'country'] = df2.loc[df2.language == l, 'country'].fillna(c)"
   ]
  },
  {
   "cell_type": "code",
   "execution_count": 51,
   "metadata": {},
   "outputs": [],
   "source": [
    "fillna_country(df_tr)"
   ]
  },
  {
   "cell_type": "code",
   "execution_count": 52,
   "metadata": {},
   "outputs": [],
   "source": [
    "def fillna_country_te(df1, df2):\n",
    "        l2 = df2[df2['country'].isna()]['language'].value_counts().axes[0] # df2 -> test data\n",
    "        l1 = df1['language'].value_counts().axes[0] #df1 -> train data\n",
    "        for l in l2:\n",
    "            if l in l1:\n",
    "                c = df1[(df1['language'] == l )]['country'].value_counts().idxmax()\n",
    "                df2.loc[df2.language == l, 'country'] = df2.loc[df2.language == l, 'country'].fillna(c)"
   ]
  },
  {
   "cell_type": "code",
   "execution_count": 53,
   "metadata": {},
   "outputs": [
    {
     "data": {
      "text/plain": [
       "196643"
      ]
     },
     "execution_count": 53,
     "metadata": {},
     "output_type": "execute_result"
    }
   ],
   "source": [
    "df_te['country'].isna().sum()"
   ]
  },
  {
   "cell_type": "code",
   "execution_count": 54,
   "metadata": {},
   "outputs": [],
   "source": [
    "fillna_country_te(df_tr, df_te)"
   ]
  },
  {
   "cell_type": "code",
   "execution_count": 55,
   "metadata": {},
   "outputs": [
    {
     "data": {
      "text/html": [
       "<div>\n",
       "<style scoped>\n",
       "    .dataframe tbody tr th:only-of-type {\n",
       "        vertical-align: middle;\n",
       "    }\n",
       "\n",
       "    .dataframe tbody tr th {\n",
       "        vertical-align: top;\n",
       "    }\n",
       "\n",
       "    .dataframe thead th {\n",
       "        text-align: right;\n",
       "    }\n",
       "</style>\n",
       "<table border=\"1\" class=\"dataframe\">\n",
       "  <thead>\n",
       "    <tr style=\"text-align: right;\">\n",
       "      <th></th>\n",
       "      <th>msno</th>\n",
       "      <th>song_id</th>\n",
       "      <th>source_system_tab</th>\n",
       "      <th>source_screen_name</th>\n",
       "      <th>source_type</th>\n",
       "      <th>target</th>\n",
       "      <th>song_length</th>\n",
       "      <th>genre_ids</th>\n",
       "      <th>artist_name</th>\n",
       "      <th>composer</th>\n",
       "      <th>...</th>\n",
       "      <th>language</th>\n",
       "      <th>city</th>\n",
       "      <th>bd</th>\n",
       "      <th>gender</th>\n",
       "      <th>registered_via</th>\n",
       "      <th>registration_init_time</th>\n",
       "      <th>expiration_date</th>\n",
       "      <th>name</th>\n",
       "      <th>isrc</th>\n",
       "      <th>country</th>\n",
       "    </tr>\n",
       "  </thead>\n",
       "  <tbody>\n",
       "    <tr>\n",
       "      <th>1495189</th>\n",
       "      <td>oVF+gp+74GNUXrhGqVJgspRysUs0+BhwsPoXhrGSX50=</td>\n",
       "      <td>q56DHVHETlI2i23Uol52mIH04w1Vk7M9ObL8BBa80pk=</td>\n",
       "      <td>search</td>\n",
       "      <td>album_more</td>\n",
       "      <td>album</td>\n",
       "      <td>1</td>\n",
       "      <td>241812.0</td>\n",
       "      <td>000</td>\n",
       "      <td>no_artist</td>\n",
       "      <td>notavailable</td>\n",
       "      <td>...</td>\n",
       "      <td>NaN</td>\n",
       "      <td>1</td>\n",
       "      <td>0</td>\n",
       "      <td>NaN</td>\n",
       "      <td>7</td>\n",
       "      <td>2014-09-29</td>\n",
       "      <td>2017-09-30</td>\n",
       "      <td>Rolled Away</td>\n",
       "      <td>NaN</td>\n",
       "      <td>NaN</td>\n",
       "    </tr>\n",
       "    <tr>\n",
       "      <th>1654622</th>\n",
       "      <td>vTGRIQUSebwNmihDIDQX9PE8XzXjX4rIqUcNUoSC7T8=</td>\n",
       "      <td>q56DHVHETlI2i23Uol52mIH04w1Vk7M9ObL8BBa80pk=</td>\n",
       "      <td>radio</td>\n",
       "      <td>radio</td>\n",
       "      <td>radio</td>\n",
       "      <td>0</td>\n",
       "      <td>241812.0</td>\n",
       "      <td>000</td>\n",
       "      <td>no_artist</td>\n",
       "      <td>notavailable</td>\n",
       "      <td>...</td>\n",
       "      <td>NaN</td>\n",
       "      <td>13</td>\n",
       "      <td>34</td>\n",
       "      <td>male</td>\n",
       "      <td>9</td>\n",
       "      <td>2011-07-16</td>\n",
       "      <td>2017-06-12</td>\n",
       "      <td>Rolled Away</td>\n",
       "      <td>NaN</td>\n",
       "      <td>NaN</td>\n",
       "    </tr>\n",
       "    <tr>\n",
       "      <th>1892700</th>\n",
       "      <td>dM79FUPOVzvxmuMQ2V2PzqzXLDMAxyZ4ck3lqdrsWzE=</td>\n",
       "      <td>Lw4+I4zpBBSnuf5tsRsnU0ImYF4AlEPqsevLrZ0TeaE=</td>\n",
       "      <td>my_library</td>\n",
       "      <td>local_playlist_more</td>\n",
       "      <td>locallibrary</td>\n",
       "      <td>1</td>\n",
       "      <td>241812.0</td>\n",
       "      <td>000</td>\n",
       "      <td>no_artist</td>\n",
       "      <td>notavailable</td>\n",
       "      <td>...</td>\n",
       "      <td>NaN</td>\n",
       "      <td>11</td>\n",
       "      <td>36</td>\n",
       "      <td>female</td>\n",
       "      <td>9</td>\n",
       "      <td>2014-05-28</td>\n",
       "      <td>2017-10-30</td>\n",
       "      <td>Turbulences</td>\n",
       "      <td>NaN</td>\n",
       "      <td>NaN</td>\n",
       "    </tr>\n",
       "    <tr>\n",
       "      <th>2083961</th>\n",
       "      <td>fhUyUH3VMYWZpFcMsJ9DncoLhyHtuJJnIlHFTbrnnhc=</td>\n",
       "      <td>q56DHVHETlI2i23Uol52mIH04w1Vk7M9ObL8BBa80pk=</td>\n",
       "      <td>my_library</td>\n",
       "      <td>local_playlist_more</td>\n",
       "      <td>localplaylist</td>\n",
       "      <td>0</td>\n",
       "      <td>241812.0</td>\n",
       "      <td>000</td>\n",
       "      <td>no_artist</td>\n",
       "      <td>notavailable</td>\n",
       "      <td>...</td>\n",
       "      <td>NaN</td>\n",
       "      <td>13</td>\n",
       "      <td>34</td>\n",
       "      <td>NaN</td>\n",
       "      <td>7</td>\n",
       "      <td>2011-03-03</td>\n",
       "      <td>2017-04-21</td>\n",
       "      <td>Rolled Away</td>\n",
       "      <td>NaN</td>\n",
       "      <td>NaN</td>\n",
       "    </tr>\n",
       "    <tr>\n",
       "      <th>2144593</th>\n",
       "      <td>43gzgDme9rf0iItrv6Zo2ICXMQywPdUwy0nc8J8Db4I=</td>\n",
       "      <td>7SYOSbXeBJXtkFYnLB8G+xAgmMcTAKjeMgS3Pk+1CHI=</td>\n",
       "      <td>my_library</td>\n",
       "      <td>local_playlist_more</td>\n",
       "      <td>locallibrary</td>\n",
       "      <td>1</td>\n",
       "      <td>241812.0</td>\n",
       "      <td>000</td>\n",
       "      <td>no_artist</td>\n",
       "      <td>notavailable</td>\n",
       "      <td>...</td>\n",
       "      <td>NaN</td>\n",
       "      <td>5</td>\n",
       "      <td>27</td>\n",
       "      <td>male</td>\n",
       "      <td>9</td>\n",
       "      <td>2011-01-18</td>\n",
       "      <td>2017-09-06</td>\n",
       "      <td>下輩子的眼淚</td>\n",
       "      <td>NaN</td>\n",
       "      <td>NaN</td>\n",
       "    </tr>\n",
       "    <tr>\n",
       "      <th>2362450</th>\n",
       "      <td>mIStkYsejaXuzPCw9z4Yx4KYW1EabrV/COqikpdV8Ag=</td>\n",
       "      <td>q56DHVHETlI2i23Uol52mIH04w1Vk7M9ObL8BBa80pk=</td>\n",
       "      <td>my_library</td>\n",
       "      <td>no_info</td>\n",
       "      <td>localplaylist</td>\n",
       "      <td>1</td>\n",
       "      <td>241812.0</td>\n",
       "      <td>000</td>\n",
       "      <td>no_artist</td>\n",
       "      <td>notavailable</td>\n",
       "      <td>...</td>\n",
       "      <td>NaN</td>\n",
       "      <td>1</td>\n",
       "      <td>0</td>\n",
       "      <td>NaN</td>\n",
       "      <td>7</td>\n",
       "      <td>2011-12-26</td>\n",
       "      <td>2017-10-01</td>\n",
       "      <td>Rolled Away</td>\n",
       "      <td>NaN</td>\n",
       "      <td>NaN</td>\n",
       "    </tr>\n",
       "    <tr>\n",
       "      <th>4006355</th>\n",
       "      <td>OWle+lhgrJrnrca4OYyLx4wNdYUVSQysYCw0FTF9lOw=</td>\n",
       "      <td>Lw4+I4zpBBSnuf5tsRsnU0ImYF4AlEPqsevLrZ0TeaE=</td>\n",
       "      <td>search</td>\n",
       "      <td>album_more</td>\n",
       "      <td>album</td>\n",
       "      <td>0</td>\n",
       "      <td>241812.0</td>\n",
       "      <td>000</td>\n",
       "      <td>no_artist</td>\n",
       "      <td>notavailable</td>\n",
       "      <td>...</td>\n",
       "      <td>NaN</td>\n",
       "      <td>22</td>\n",
       "      <td>26</td>\n",
       "      <td>male</td>\n",
       "      <td>9</td>\n",
       "      <td>2008-08-16</td>\n",
       "      <td>2017-10-06</td>\n",
       "      <td>Turbulences</td>\n",
       "      <td>NaN</td>\n",
       "      <td>NaN</td>\n",
       "    </tr>\n",
       "    <tr>\n",
       "      <th>5943182</th>\n",
       "      <td>+bQQ3svrSTHzIVdE8VA6yAAIBNF+WEXmp4WsI1cM8cw=</td>\n",
       "      <td>q56DHVHETlI2i23Uol52mIH04w1Vk7M9ObL8BBa80pk=</td>\n",
       "      <td>radio</td>\n",
       "      <td>radio</td>\n",
       "      <td>radio</td>\n",
       "      <td>0</td>\n",
       "      <td>241812.0</td>\n",
       "      <td>000</td>\n",
       "      <td>no_artist</td>\n",
       "      <td>notavailable</td>\n",
       "      <td>...</td>\n",
       "      <td>NaN</td>\n",
       "      <td>5</td>\n",
       "      <td>36</td>\n",
       "      <td>male</td>\n",
       "      <td>7</td>\n",
       "      <td>2010-10-23</td>\n",
       "      <td>2017-09-23</td>\n",
       "      <td>Rolled Away</td>\n",
       "      <td>NaN</td>\n",
       "      <td>NaN</td>\n",
       "    </tr>\n",
       "    <tr>\n",
       "      <th>6794433</th>\n",
       "      <td>6esVRMr1v1qQT1tR7NWP7LaTAWCd32aWU91fKmLcWgk=</td>\n",
       "      <td>q56DHVHETlI2i23Uol52mIH04w1Vk7M9ObL8BBa80pk=</td>\n",
       "      <td>search</td>\n",
       "      <td>search</td>\n",
       "      <td>album</td>\n",
       "      <td>1</td>\n",
       "      <td>241812.0</td>\n",
       "      <td>000</td>\n",
       "      <td>no_artist</td>\n",
       "      <td>notavailable</td>\n",
       "      <td>...</td>\n",
       "      <td>NaN</td>\n",
       "      <td>6</td>\n",
       "      <td>32</td>\n",
       "      <td>female</td>\n",
       "      <td>7</td>\n",
       "      <td>2011-04-15</td>\n",
       "      <td>2017-09-14</td>\n",
       "      <td>Rolled Away</td>\n",
       "      <td>NaN</td>\n",
       "      <td>NaN</td>\n",
       "    </tr>\n",
       "  </tbody>\n",
       "</table>\n",
       "<p>9 rows × 21 columns</p>\n",
       "</div>"
      ],
      "text/plain": [
       "                                                 msno  \\\n",
       "1495189  oVF+gp+74GNUXrhGqVJgspRysUs0+BhwsPoXhrGSX50=   \n",
       "1654622  vTGRIQUSebwNmihDIDQX9PE8XzXjX4rIqUcNUoSC7T8=   \n",
       "1892700  dM79FUPOVzvxmuMQ2V2PzqzXLDMAxyZ4ck3lqdrsWzE=   \n",
       "2083961  fhUyUH3VMYWZpFcMsJ9DncoLhyHtuJJnIlHFTbrnnhc=   \n",
       "2144593  43gzgDme9rf0iItrv6Zo2ICXMQywPdUwy0nc8J8Db4I=   \n",
       "2362450  mIStkYsejaXuzPCw9z4Yx4KYW1EabrV/COqikpdV8Ag=   \n",
       "4006355  OWle+lhgrJrnrca4OYyLx4wNdYUVSQysYCw0FTF9lOw=   \n",
       "5943182  +bQQ3svrSTHzIVdE8VA6yAAIBNF+WEXmp4WsI1cM8cw=   \n",
       "6794433  6esVRMr1v1qQT1tR7NWP7LaTAWCd32aWU91fKmLcWgk=   \n",
       "\n",
       "                                              song_id source_system_tab  \\\n",
       "1495189  q56DHVHETlI2i23Uol52mIH04w1Vk7M9ObL8BBa80pk=            search   \n",
       "1654622  q56DHVHETlI2i23Uol52mIH04w1Vk7M9ObL8BBa80pk=             radio   \n",
       "1892700  Lw4+I4zpBBSnuf5tsRsnU0ImYF4AlEPqsevLrZ0TeaE=        my_library   \n",
       "2083961  q56DHVHETlI2i23Uol52mIH04w1Vk7M9ObL8BBa80pk=        my_library   \n",
       "2144593  7SYOSbXeBJXtkFYnLB8G+xAgmMcTAKjeMgS3Pk+1CHI=        my_library   \n",
       "2362450  q56DHVHETlI2i23Uol52mIH04w1Vk7M9ObL8BBa80pk=        my_library   \n",
       "4006355  Lw4+I4zpBBSnuf5tsRsnU0ImYF4AlEPqsevLrZ0TeaE=            search   \n",
       "5943182  q56DHVHETlI2i23Uol52mIH04w1Vk7M9ObL8BBa80pk=             radio   \n",
       "6794433  q56DHVHETlI2i23Uol52mIH04w1Vk7M9ObL8BBa80pk=            search   \n",
       "\n",
       "          source_screen_name    source_type  target  song_length genre_ids  \\\n",
       "1495189           album_more          album       1     241812.0       000   \n",
       "1654622                radio          radio       0     241812.0       000   \n",
       "1892700  local_playlist_more   locallibrary       1     241812.0       000   \n",
       "2083961  local_playlist_more  localplaylist       0     241812.0       000   \n",
       "2144593  local_playlist_more   locallibrary       1     241812.0       000   \n",
       "2362450              no_info  localplaylist       1     241812.0       000   \n",
       "4006355           album_more          album       0     241812.0       000   \n",
       "5943182                radio          radio       0     241812.0       000   \n",
       "6794433               search          album       1     241812.0       000   \n",
       "\n",
       "        artist_name      composer  ... language  city  bd  gender  \\\n",
       "1495189   no_artist  notavailable  ...      NaN     1   0     NaN   \n",
       "1654622   no_artist  notavailable  ...      NaN    13  34    male   \n",
       "1892700   no_artist  notavailable  ...      NaN    11  36  female   \n",
       "2083961   no_artist  notavailable  ...      NaN    13  34     NaN   \n",
       "2144593   no_artist  notavailable  ...      NaN     5  27    male   \n",
       "2362450   no_artist  notavailable  ...      NaN     1   0     NaN   \n",
       "4006355   no_artist  notavailable  ...      NaN    22  26    male   \n",
       "5943182   no_artist  notavailable  ...      NaN     5  36    male   \n",
       "6794433   no_artist  notavailable  ...      NaN     6  32  female   \n",
       "\n",
       "        registered_via  registration_init_time expiration_date         name  \\\n",
       "1495189              7              2014-09-29      2017-09-30  Rolled Away   \n",
       "1654622              9              2011-07-16      2017-06-12  Rolled Away   \n",
       "1892700              9              2014-05-28      2017-10-30  Turbulences   \n",
       "2083961              7              2011-03-03      2017-04-21  Rolled Away   \n",
       "2144593              9              2011-01-18      2017-09-06       下輩子的眼淚   \n",
       "2362450              7              2011-12-26      2017-10-01  Rolled Away   \n",
       "4006355              9              2008-08-16      2017-10-06  Turbulences   \n",
       "5943182              7              2010-10-23      2017-09-23  Rolled Away   \n",
       "6794433              7              2011-04-15      2017-09-14  Rolled Away   \n",
       "\n",
       "        isrc country  \n",
       "1495189  NaN     NaN  \n",
       "1654622  NaN     NaN  \n",
       "1892700  NaN     NaN  \n",
       "2083961  NaN     NaN  \n",
       "2144593  NaN     NaN  \n",
       "2362450  NaN     NaN  \n",
       "4006355  NaN     NaN  \n",
       "5943182  NaN     NaN  \n",
       "6794433  NaN     NaN  \n",
       "\n",
       "[9 rows x 21 columns]"
      ]
     },
     "execution_count": 55,
     "metadata": {},
     "output_type": "execute_result"
    }
   ],
   "source": [
    "df_tr.loc[df_tr['country'].isna()]"
   ]
  },
  {
   "cell_type": "code",
   "execution_count": 56,
   "metadata": {
    "scrolled": true
   },
   "outputs": [
    {
     "data": {
      "text/plain": [
       "(7377409, 21)"
      ]
     },
     "execution_count": 56,
     "metadata": {},
     "output_type": "execute_result"
    }
   ],
   "source": [
    "# Droping these 9 rows as the other columns were also mostly NANs previously \n",
    "df_tr.drop(df_tr.index[df_tr['country'].isna()], inplace = True)\n",
    "df_tr.shape"
   ]
  },
  {
   "cell_type": "code",
   "execution_count": 57,
   "metadata": {},
   "outputs": [
    {
     "data": {
      "text/html": [
       "<div>\n",
       "<style scoped>\n",
       "    .dataframe tbody tr th:only-of-type {\n",
       "        vertical-align: middle;\n",
       "    }\n",
       "\n",
       "    .dataframe tbody tr th {\n",
       "        vertical-align: top;\n",
       "    }\n",
       "\n",
       "    .dataframe thead th {\n",
       "        text-align: right;\n",
       "    }\n",
       "</style>\n",
       "<table border=\"1\" class=\"dataframe\">\n",
       "  <thead>\n",
       "    <tr style=\"text-align: right;\">\n",
       "      <th></th>\n",
       "      <th>msno</th>\n",
       "      <th>song_id</th>\n",
       "      <th>source_system_tab</th>\n",
       "      <th>source_screen_name</th>\n",
       "      <th>source_type</th>\n",
       "      <th>song_length</th>\n",
       "      <th>genre_ids</th>\n",
       "      <th>artist_name</th>\n",
       "      <th>composer</th>\n",
       "      <th>lyricist</th>\n",
       "      <th>language</th>\n",
       "      <th>city</th>\n",
       "      <th>bd</th>\n",
       "      <th>gender</th>\n",
       "      <th>registered_via</th>\n",
       "      <th>registration_init_time</th>\n",
       "      <th>expiration_date</th>\n",
       "      <th>name</th>\n",
       "      <th>isrc</th>\n",
       "      <th>country</th>\n",
       "    </tr>\n",
       "  </thead>\n",
       "  <tbody>\n",
       "    <tr>\n",
       "      <th>589260</th>\n",
       "      <td>7ZXkc5u72qDQE8dqQVIaxCfTGEPDF1Ak8R+YWkzl6jI=</td>\n",
       "      <td>q56DHVHETlI2i23Uol52mIH04w1Vk7M9ObL8BBa80pk=</td>\n",
       "      <td>discover</td>\n",
       "      <td>album_more</td>\n",
       "      <td>album</td>\n",
       "      <td>241812.0</td>\n",
       "      <td>000</td>\n",
       "      <td>no_artist</td>\n",
       "      <td>notavailable</td>\n",
       "      <td>notavailable</td>\n",
       "      <td>NaN</td>\n",
       "      <td>14</td>\n",
       "      <td>39</td>\n",
       "      <td>male</td>\n",
       "      <td>9</td>\n",
       "      <td>2012-01-08</td>\n",
       "      <td>2019-12-07</td>\n",
       "      <td>Rolled Away</td>\n",
       "      <td>NaN</td>\n",
       "      <td>NaN</td>\n",
       "    </tr>\n",
       "    <tr>\n",
       "      <th>1446239</th>\n",
       "      <td>5Eq0bbVF1Yh/tuFHWMeZ9Kutfz9Wj5baNwrlaZ0Vgrs=</td>\n",
       "      <td>q56DHVHETlI2i23Uol52mIH04w1Vk7M9ObL8BBa80pk=</td>\n",
       "      <td>radio</td>\n",
       "      <td>radio</td>\n",
       "      <td>radio</td>\n",
       "      <td>241812.0</td>\n",
       "      <td>000</td>\n",
       "      <td>no_artist</td>\n",
       "      <td>notavailable</td>\n",
       "      <td>notavailable</td>\n",
       "      <td>NaN</td>\n",
       "      <td>1</td>\n",
       "      <td>0</td>\n",
       "      <td>NaN</td>\n",
       "      <td>7</td>\n",
       "      <td>2013-12-05</td>\n",
       "      <td>2017-04-09</td>\n",
       "      <td>Rolled Away</td>\n",
       "      <td>NaN</td>\n",
       "      <td>NaN</td>\n",
       "    </tr>\n",
       "    <tr>\n",
       "      <th>1666131</th>\n",
       "      <td>dJfBnXVe8IXAVfsgqAKxuoQ2pw8saislr4pG4aqaESk=</td>\n",
       "      <td>GQK/aYFW8elL+4o7Qo1zNSQmjYDKJfacYT2+QKWQ71U=</td>\n",
       "      <td>my_library</td>\n",
       "      <td>local_playlist_more</td>\n",
       "      <td>localplaylist</td>\n",
       "      <td>241812.0</td>\n",
       "      <td>000</td>\n",
       "      <td>no_artist</td>\n",
       "      <td>notavailable</td>\n",
       "      <td>notavailable</td>\n",
       "      <td>NaN</td>\n",
       "      <td>8</td>\n",
       "      <td>26</td>\n",
       "      <td>male</td>\n",
       "      <td>9</td>\n",
       "      <td>2006-10-06</td>\n",
       "      <td>2017-11-30</td>\n",
       "      <td>Doctor Gradus Ad Parnassum (Debussy)</td>\n",
       "      <td>NaN</td>\n",
       "      <td>NaN</td>\n",
       "    </tr>\n",
       "  </tbody>\n",
       "</table>\n",
       "</div>"
      ],
      "text/plain": [
       "                                                 msno  \\\n",
       "589260   7ZXkc5u72qDQE8dqQVIaxCfTGEPDF1Ak8R+YWkzl6jI=   \n",
       "1446239  5Eq0bbVF1Yh/tuFHWMeZ9Kutfz9Wj5baNwrlaZ0Vgrs=   \n",
       "1666131  dJfBnXVe8IXAVfsgqAKxuoQ2pw8saislr4pG4aqaESk=   \n",
       "\n",
       "                                              song_id source_system_tab  \\\n",
       "589260   q56DHVHETlI2i23Uol52mIH04w1Vk7M9ObL8BBa80pk=          discover   \n",
       "1446239  q56DHVHETlI2i23Uol52mIH04w1Vk7M9ObL8BBa80pk=             radio   \n",
       "1666131  GQK/aYFW8elL+4o7Qo1zNSQmjYDKJfacYT2+QKWQ71U=        my_library   \n",
       "\n",
       "          source_screen_name    source_type  song_length genre_ids  \\\n",
       "589260            album_more          album     241812.0       000   \n",
       "1446239                radio          radio     241812.0       000   \n",
       "1666131  local_playlist_more  localplaylist     241812.0       000   \n",
       "\n",
       "        artist_name      composer      lyricist  language  city  bd gender  \\\n",
       "589260    no_artist  notavailable  notavailable       NaN    14  39   male   \n",
       "1446239   no_artist  notavailable  notavailable       NaN     1   0    NaN   \n",
       "1666131   no_artist  notavailable  notavailable       NaN     8  26   male   \n",
       "\n",
       "         registered_via registration_init_time expiration_date  \\\n",
       "589260                9             2012-01-08      2019-12-07   \n",
       "1446239               7             2013-12-05      2017-04-09   \n",
       "1666131               9             2006-10-06      2017-11-30   \n",
       "\n",
       "                                         name isrc country  \n",
       "589260                            Rolled Away  NaN     NaN  \n",
       "1446239                           Rolled Away  NaN     NaN  \n",
       "1666131  Doctor Gradus Ad Parnassum (Debussy)  NaN     NaN  "
      ]
     },
     "execution_count": 57,
     "metadata": {},
     "output_type": "execute_result"
    }
   ],
   "source": [
    "df_te.loc[df_te['country'].isna()]"
   ]
  },
  {
   "cell_type": "code",
   "execution_count": 58,
   "metadata": {},
   "outputs": [
    {
     "data": {
      "text/plain": [
       "(2556790, 20)"
      ]
     },
     "execution_count": 58,
     "metadata": {},
     "output_type": "execute_result"
    }
   ],
   "source": [
    "df_te.loc[df_te.index[df_te['country'].isna()], 'country'] = 'US'\n",
    "df_te.shape"
   ]
  },
  {
   "cell_type": "markdown",
   "metadata": {},
   "source": [
    "### Preprocessing features: language"
   ]
  },
  {
   "cell_type": "code",
   "execution_count": 59,
   "metadata": {
    "colab": {},
    "colab_type": "code",
    "id": "TWURbOESU3ms"
   },
   "outputs": [
    {
     "data": {
      "text/plain": [
       "notavailable                                                                                                                                                                                                                                                                                                                                                   105\n",
       "korean_lyrics_by_kim__jong_hyun__lee__yoon_seol_ryu__da_som_jeong__young_ah__henrik_meinke__jonas_kalisch__alexsej_vlasenko__jeremy_chacon__ilanguaq_lumholt___marcus_winther,korean_lyrics_by_kim__jong_hyun__lee__yoon_seol_ryu__da_som_jeong__young_ah__henrik_meinke__jonas_kalisch__alexsej_vlasenko__jeremy_chacon__ilanguaq_lumholt___marcus_winther     36\n",
       "Name: composer, dtype: int64"
      ]
     },
     "execution_count": 59,
     "metadata": {},
     "output_type": "execute_result"
    }
   ],
   "source": [
    "df_tr[df_tr['language'].isna()][ 'composer'].value_counts()\n",
    "# Composer column for NANs in language specifies 36 of those songs contain korean lyrics"
   ]
  },
  {
   "cell_type": "code",
   "execution_count": 60,
   "metadata": {},
   "outputs": [],
   "source": [
    "# Findingthe indexes where composer contains the word korean\n",
    "x = df_tr.loc[(df_tr['language'].isna()) & (df_tr['composer'].str.find('korean') != -1)].index.tolist()"
   ]
  },
  {
   "cell_type": "code",
   "execution_count": 61,
   "metadata": {},
   "outputs": [],
   "source": [
    "# replacing the Nans for the indexes above with language 31 as it is promonent in Korea\n",
    "for i in x:\n",
    "    df_tr['language'][i] = 31"
   ]
  },
  {
   "cell_type": "code",
   "execution_count": 62,
   "metadata": {},
   "outputs": [
    {
     "data": {
      "text/plain": [
       "notavailable    105\n",
       "Name: composer, dtype: int64"
      ]
     },
     "execution_count": 62,
     "metadata": {},
     "output_type": "execute_result"
    }
   ],
   "source": [
    "df_tr[df_tr['language'].isna()][ 'composer'].value_counts()"
   ]
  },
  {
   "cell_type": "markdown",
   "metadata": {},
   "source": [
    "##### Similarly for the test set"
   ]
  },
  {
   "cell_type": "code",
   "execution_count": 63,
   "metadata": {},
   "outputs": [
    {
     "data": {
      "text/plain": [
       "notavailable                                                                                                                                                                                                                                                                                                                                                   25\n",
       "korean_lyrics_by_kim__jong_hyun__lee__yoon_seol_ryu__da_som_jeong__young_ah__henrik_meinke__jonas_kalisch__alexsej_vlasenko__jeremy_chacon__ilanguaq_lumholt___marcus_winther,korean_lyrics_by_kim__jong_hyun__lee__yoon_seol_ryu__da_som_jeong__young_ah__henrik_meinke__jonas_kalisch__alexsej_vlasenko__jeremy_chacon__ilanguaq_lumholt___marcus_winther    17\n",
       "Name: composer, dtype: int64"
      ]
     },
     "execution_count": 63,
     "metadata": {},
     "output_type": "execute_result"
    }
   ],
   "source": [
    "df_te[df_te['language'].isna()][ 'composer'].value_counts()"
   ]
  },
  {
   "cell_type": "code",
   "execution_count": 64,
   "metadata": {},
   "outputs": [
    {
     "data": {
      "text/plain": [
       "notavailable    25\n",
       "Name: composer, dtype: int64"
      ]
     },
     "execution_count": 64,
     "metadata": {},
     "output_type": "execute_result"
    }
   ],
   "source": [
    "x2 = df_te.loc[(df_te['language'].isna()) & (df_te['composer'].str.find('korean') != -1)].index.tolist()\n",
    "for i in x2:\n",
    "    df_te['language'][i] = 31\n",
    "df_te[df_te['language'].isna()][ 'composer'].value_counts()"
   ]
  },
  {
   "cell_type": "code",
   "execution_count": 65,
   "metadata": {
    "colab": {},
    "colab_type": "code",
    "id": "FTgHmopFu6l0"
   },
   "outputs": [
    {
     "data": {
      "text/plain": [
       "US    40\n",
       "FR    16\n",
       "TW    13\n",
       "JP    11\n",
       "HK     9\n",
       "TC     4\n",
       "IT     3\n",
       "DE     3\n",
       "GB     3\n",
       "CA     1\n",
       "PL     1\n",
       "QM     1\n",
       "Name: country, dtype: int64"
      ]
     },
     "execution_count": 65,
     "metadata": {},
     "output_type": "execute_result"
    }
   ],
   "source": [
    "df_tr[df_tr['language'].isna()][ 'country'].value_counts()"
   ]
  },
  {
   "cell_type": "code",
   "execution_count": 66,
   "metadata": {},
   "outputs": [],
   "source": [
    "# Getting the dominant language for each country\n",
    "country = df_tr['country'].unique()\n",
    "dict_cntry = {}\n",
    "for c in country:\n",
    "    l = df_tr[(df_tr['country'] == c )]['language'].value_counts().idxmax()\n",
    "    dict_cntry.update({c:l})"
   ]
  },
  {
   "cell_type": "code",
   "execution_count": 67,
   "metadata": {},
   "outputs": [],
   "source": [
    "index_na = df_tr[df_tr['language'].isna()].index.tolist()"
   ]
  },
  {
   "cell_type": "code",
   "execution_count": 68,
   "metadata": {
    "colab": {
     "base_uri": "https://localhost:8080/",
     "height": 207
    },
    "colab_type": "code",
    "executionInfo": {
     "elapsed": 977,
     "status": "ok",
     "timestamp": 1600686431909,
     "user": {
      "displayName": "Sai Meghana Reppala",
      "photoUrl": "",
      "userId": "02699887557395051804"
     },
     "user_tz": -330
    },
    "id": "oGbzZcaru6l3",
    "outputId": "3314f6ef-4f94-40f7-e376-5b2366c4eaf3"
   },
   "outputs": [],
   "source": [
    "for i in index_na:\n",
    "    for c in dict_cntry.keys():\n",
    "        if df_tr['country'][i] == c :\n",
    "            df_tr['language'][i] = dict_cntry.get(c)                                                     "
   ]
  },
  {
   "cell_type": "code",
   "execution_count": 69,
   "metadata": {},
   "outputs": [
    {
     "data": {
      "text/plain": [
       "0"
      ]
     },
     "execution_count": 69,
     "metadata": {},
     "output_type": "execute_result"
    }
   ],
   "source": [
    "df_tr['language'].isna().sum()"
   ]
  },
  {
   "cell_type": "code",
   "execution_count": 70,
   "metadata": {},
   "outputs": [
    {
     "data": {
      "text/plain": [
       "0"
      ]
     },
     "execution_count": 70,
     "metadata": {},
     "output_type": "execute_result"
    }
   ],
   "source": [
    "index_na_te = df_te[df_te['language'].isna()].index.tolist()\n",
    "for i in index_na_te:\n",
    "    for c in dict_cntry.keys():\n",
    "        if df_te['country'][i] == c :\n",
    "            df_te['language'][i] = dict_cntry.get(c) \n",
    "df_te['language'].isna().sum()"
   ]
  },
  {
   "cell_type": "markdown",
   "metadata": {},
   "source": [
    "### Preprocessing features: Gender"
   ]
  },
  {
   "cell_type": "code",
   "execution_count": 71,
   "metadata": {},
   "outputs": [
    {
     "data": {
      "text/plain": [
       "male      768452\n",
       "female    736114\n",
       "Name: gender, dtype: int64"
      ]
     },
     "execution_count": 71,
     "metadata": {},
     "output_type": "execute_result"
    }
   ],
   "source": [
    "df_te['gender'].value_counts()"
   ]
  },
  {
   "cell_type": "code",
   "execution_count": 72,
   "metadata": {},
   "outputs": [
    {
     "data": {
      "text/plain": [
       "2961476"
      ]
     },
     "execution_count": 72,
     "metadata": {},
     "output_type": "execute_result"
    }
   ],
   "source": [
    "df_tr['gender'].isna().sum()"
   ]
  },
  {
   "cell_type": "code",
   "execution_count": 73,
   "metadata": {},
   "outputs": [
    {
     "data": {
      "text/plain": [
       "0"
      ]
     },
     "execution_count": 73,
     "metadata": {},
     "output_type": "execute_result"
    }
   ],
   "source": [
    "preprocessing1(df_tr, 'gender', 'no info')\n",
    "df_tr['gender'].isna().sum()"
   ]
  },
  {
   "cell_type": "code",
   "execution_count": 74,
   "metadata": {},
   "outputs": [
    {
     "data": {
      "text/plain": [
       "0"
      ]
     },
     "execution_count": 74,
     "metadata": {},
     "output_type": "execute_result"
    }
   ],
   "source": [
    "preprocessing1(df_te, 'gender', 'no info')\n",
    "df_te['gender'].isna().sum()"
   ]
  },
  {
   "cell_type": "markdown",
   "metadata": {},
   "source": [
    "### Preprocessing and extracting new features: registration_init_time , expiration_date"
   ]
  },
  {
   "cell_type": "code",
   "execution_count": 75,
   "metadata": {},
   "outputs": [],
   "source": [
    "df_tr['membership_days'] = df_tr['expiration_date'].subtract(df_tr['registration_init_time']).dt.days.astype(int)\n",
    "df_te['membership_days'] = df_te['expiration_date'].subtract(df_te['registration_init_time']).dt.days.astype(int)"
   ]
  },
  {
   "cell_type": "code",
   "execution_count": 76,
   "metadata": {},
   "outputs": [],
   "source": [
    "df_tr['registration_year'] = df_tr['registration_init_time'].dt.year\n",
    "df_tr['registration_month'] = df_tr['registration_init_time'].dt.month\n",
    "df_tr['registration_date'] = df_tr['registration_init_time'].dt.day"
   ]
  },
  {
   "cell_type": "code",
   "execution_count": 77,
   "metadata": {},
   "outputs": [],
   "source": [
    "df_te['registration_year'] = df_te['registration_init_time'].dt.year\n",
    "df_te['registration_month'] = df_te['registration_init_time'].dt.month\n",
    "df_te['registration_date'] = df_te['registration_init_time'].dt.day"
   ]
  },
  {
   "cell_type": "code",
   "execution_count": 78,
   "metadata": {},
   "outputs": [],
   "source": [
    "df_tr['expiration_year'] = df_tr['expiration_date'].dt.year\n",
    "df_tr['expiration_month'] = df_tr['expiration_date'].dt.month\n",
    "df_tr['expiration_date'] = df_tr['expiration_date'].dt.day"
   ]
  },
  {
   "cell_type": "code",
   "execution_count": 79,
   "metadata": {},
   "outputs": [],
   "source": [
    "df_te['expiration_year'] = df_te['expiration_date'].dt.year\n",
    "df_te['expiration_month'] = df_te['expiration_date'].dt.month\n",
    "df_te['expiration_date'] = df_te['expiration_date'].dt.day"
   ]
  },
  {
   "cell_type": "code",
   "execution_count": 80,
   "metadata": {},
   "outputs": [],
   "source": [
    "df_tr = df_tr.drop(['registration_init_time','expiration_date'], axis=1)\n",
    "df_te = df_te.drop(['registration_init_time','expiration_date'], axis=1)"
   ]
  },
  {
   "cell_type": "markdown",
   "metadata": {},
   "source": [
    "### Preprocessing and extracting new features: Song_year from ISRC code"
   ]
  },
  {
   "cell_type": "code",
   "execution_count": 81,
   "metadata": {},
   "outputs": [],
   "source": [
    "def isrc_to_year(isrc):\n",
    "    if type(isrc) == str:\n",
    "        if int(isrc[5:7]) > 17:\n",
    "            return 1900 + int(isrc[5:7])\n",
    "        else:\n",
    "            return 2000 + int(isrc[5:7])\n",
    "    else:\n",
    "        return -1"
   ]
  },
  {
   "cell_type": "code",
   "execution_count": 82,
   "metadata": {},
   "outputs": [],
   "source": [
    "df_tr['song_year'] = df_tr['isrc'].apply(isrc_to_year)"
   ]
  },
  {
   "cell_type": "code",
   "execution_count": 83,
   "metadata": {
    "colab": {},
    "colab_type": "code",
    "id": "qHs_n4FUXkow"
   },
   "outputs": [
    {
     "data": {
      "text/plain": [
       " 2016    2021257\n",
       " 2015     831867\n",
       " 2014     599984\n",
       "-1        577849\n",
       " 2012     407602\n",
       "          ...   \n",
       " 1940         29\n",
       " 1945         21\n",
       " 1944         13\n",
       " 1948          8\n",
       " 1943          2\n",
       "Name: song_year, Length: 101, dtype: int64"
      ]
     },
     "execution_count": 83,
     "metadata": {},
     "output_type": "execute_result"
    }
   ],
   "source": [
    "df_tr['song_year'].value_counts()"
   ]
  },
  {
   "cell_type": "code",
   "execution_count": 84,
   "metadata": {},
   "outputs": [],
   "source": [
    "df_te['song_year'] = df_te['isrc'].apply(isrc_to_year)"
   ]
  },
  {
   "cell_type": "code",
   "execution_count": 85,
   "metadata": {},
   "outputs": [],
   "source": [
    "# Filling NANs with median of years corresponding to each country\n",
    "country = df_tr['country'].unique()\n",
    "dict_year = {}\n",
    "for c in country:\n",
    "    year = df_tr[df_tr['country'] == c]['song_year'].median()\n",
    "    dict_year.update({c:year})"
   ]
  },
  {
   "cell_type": "code",
   "execution_count": 86,
   "metadata": {},
   "outputs": [],
   "source": [
    "index_year_tr = df_tr[df_tr['song_year'] == -1].index.tolist()\n",
    "for i in index_year_tr:\n",
    "    for c in dict_year.keys():\n",
    "        if df_tr['country'][i] == c :\n",
    "            df_tr['song_year'][i] = dict_year.get(c) "
   ]
  },
  {
   "cell_type": "code",
   "execution_count": 87,
   "metadata": {},
   "outputs": [],
   "source": [
    "index_year_te = df_te[df_te['song_year'] == -1].index.tolist()\n",
    "for i in index_year_te:\n",
    "    for c in dict_year.keys():\n",
    "        if df_te['country'][i] == c :\n",
    "            df_te['song_year'][i] = dict_year.get(c)"
   ]
  },
  {
   "cell_type": "code",
   "execution_count": 88,
   "metadata": {},
   "outputs": [],
   "source": [
    "df_tr = df_tr.drop(['isrc'], axis=1)\n",
    "df_te = df_te.drop(['isrc'], axis=1)"
   ]
  },
  {
   "cell_type": "code",
   "execution_count": 89,
   "metadata": {
    "colab": {},
    "colab_type": "code",
    "id": "_verknZTelVD"
   },
   "outputs": [
    {
     "ename": "KeyError",
     "evalue": "\"['Unnamed: 0'] not found in axis\"",
     "output_type": "error",
     "traceback": [
      "\u001b[0;31m---------------------------------------------------------------------------\u001b[0m",
      "\u001b[0;31mKeyError\u001b[0m                                  Traceback (most recent call last)",
      "\u001b[0;32m<ipython-input-89-e1e55abc9219>\u001b[0m in \u001b[0;36m<module>\u001b[0;34m\u001b[0m\n\u001b[0;32m----> 1\u001b[0;31m \u001b[0mdf_tr\u001b[0m \u001b[0;34m=\u001b[0m \u001b[0mdf_tr\u001b[0m\u001b[0;34m.\u001b[0m\u001b[0mdrop\u001b[0m\u001b[0;34m(\u001b[0m\u001b[0;34m[\u001b[0m\u001b[0;34m'Unnamed: 0'\u001b[0m\u001b[0;34m]\u001b[0m\u001b[0;34m,\u001b[0m \u001b[0maxis\u001b[0m\u001b[0;34m=\u001b[0m\u001b[0;36m1\u001b[0m\u001b[0;34m)\u001b[0m\u001b[0;34m\u001b[0m\u001b[0;34m\u001b[0m\u001b[0m\n\u001b[0m\u001b[1;32m      2\u001b[0m \u001b[0mdf_te\u001b[0m \u001b[0;34m=\u001b[0m \u001b[0mdf_te\u001b[0m\u001b[0;34m.\u001b[0m\u001b[0mdrop\u001b[0m\u001b[0;34m(\u001b[0m\u001b[0;34m[\u001b[0m\u001b[0;34m'Unnamed: 0'\u001b[0m\u001b[0;34m]\u001b[0m\u001b[0;34m,\u001b[0m \u001b[0maxis\u001b[0m\u001b[0;34m=\u001b[0m\u001b[0;36m1\u001b[0m\u001b[0;34m)\u001b[0m\u001b[0;34m\u001b[0m\u001b[0;34m\u001b[0m\u001b[0m\n",
      "\u001b[0;32m~/.virtualenvs/myenv/lib/python3.6/site-packages/pandas/core/frame.py\u001b[0m in \u001b[0;36mdrop\u001b[0;34m(self, labels, axis, index, columns, level, inplace, errors)\u001b[0m\n\u001b[1;32m   4167\u001b[0m             \u001b[0mlevel\u001b[0m\u001b[0;34m=\u001b[0m\u001b[0mlevel\u001b[0m\u001b[0;34m,\u001b[0m\u001b[0;34m\u001b[0m\u001b[0;34m\u001b[0m\u001b[0m\n\u001b[1;32m   4168\u001b[0m             \u001b[0minplace\u001b[0m\u001b[0;34m=\u001b[0m\u001b[0minplace\u001b[0m\u001b[0;34m,\u001b[0m\u001b[0;34m\u001b[0m\u001b[0;34m\u001b[0m\u001b[0m\n\u001b[0;32m-> 4169\u001b[0;31m             \u001b[0merrors\u001b[0m\u001b[0;34m=\u001b[0m\u001b[0merrors\u001b[0m\u001b[0;34m,\u001b[0m\u001b[0;34m\u001b[0m\u001b[0;34m\u001b[0m\u001b[0m\n\u001b[0m\u001b[1;32m   4170\u001b[0m         )\n\u001b[1;32m   4171\u001b[0m \u001b[0;34m\u001b[0m\u001b[0m\n",
      "\u001b[0;32m~/.virtualenvs/myenv/lib/python3.6/site-packages/pandas/core/generic.py\u001b[0m in \u001b[0;36mdrop\u001b[0;34m(self, labels, axis, index, columns, level, inplace, errors)\u001b[0m\n\u001b[1;32m   3882\u001b[0m         \u001b[0;32mfor\u001b[0m \u001b[0maxis\u001b[0m\u001b[0;34m,\u001b[0m \u001b[0mlabels\u001b[0m \u001b[0;32min\u001b[0m \u001b[0maxes\u001b[0m\u001b[0;34m.\u001b[0m\u001b[0mitems\u001b[0m\u001b[0;34m(\u001b[0m\u001b[0;34m)\u001b[0m\u001b[0;34m:\u001b[0m\u001b[0;34m\u001b[0m\u001b[0;34m\u001b[0m\u001b[0m\n\u001b[1;32m   3883\u001b[0m             \u001b[0;32mif\u001b[0m \u001b[0mlabels\u001b[0m \u001b[0;32mis\u001b[0m \u001b[0;32mnot\u001b[0m \u001b[0;32mNone\u001b[0m\u001b[0;34m:\u001b[0m\u001b[0;34m\u001b[0m\u001b[0;34m\u001b[0m\u001b[0m\n\u001b[0;32m-> 3884\u001b[0;31m                 \u001b[0mobj\u001b[0m \u001b[0;34m=\u001b[0m \u001b[0mobj\u001b[0m\u001b[0;34m.\u001b[0m\u001b[0m_drop_axis\u001b[0m\u001b[0;34m(\u001b[0m\u001b[0mlabels\u001b[0m\u001b[0;34m,\u001b[0m \u001b[0maxis\u001b[0m\u001b[0;34m,\u001b[0m \u001b[0mlevel\u001b[0m\u001b[0;34m=\u001b[0m\u001b[0mlevel\u001b[0m\u001b[0;34m,\u001b[0m \u001b[0merrors\u001b[0m\u001b[0;34m=\u001b[0m\u001b[0merrors\u001b[0m\u001b[0;34m)\u001b[0m\u001b[0;34m\u001b[0m\u001b[0;34m\u001b[0m\u001b[0m\n\u001b[0m\u001b[1;32m   3885\u001b[0m \u001b[0;34m\u001b[0m\u001b[0m\n\u001b[1;32m   3886\u001b[0m         \u001b[0;32mif\u001b[0m \u001b[0minplace\u001b[0m\u001b[0;34m:\u001b[0m\u001b[0;34m\u001b[0m\u001b[0;34m\u001b[0m\u001b[0m\n",
      "\u001b[0;32m~/.virtualenvs/myenv/lib/python3.6/site-packages/pandas/core/generic.py\u001b[0m in \u001b[0;36m_drop_axis\u001b[0;34m(self, labels, axis, level, errors)\u001b[0m\n\u001b[1;32m   3916\u001b[0m                 \u001b[0mnew_axis\u001b[0m \u001b[0;34m=\u001b[0m \u001b[0maxis\u001b[0m\u001b[0;34m.\u001b[0m\u001b[0mdrop\u001b[0m\u001b[0;34m(\u001b[0m\u001b[0mlabels\u001b[0m\u001b[0;34m,\u001b[0m \u001b[0mlevel\u001b[0m\u001b[0;34m=\u001b[0m\u001b[0mlevel\u001b[0m\u001b[0;34m,\u001b[0m \u001b[0merrors\u001b[0m\u001b[0;34m=\u001b[0m\u001b[0merrors\u001b[0m\u001b[0;34m)\u001b[0m\u001b[0;34m\u001b[0m\u001b[0;34m\u001b[0m\u001b[0m\n\u001b[1;32m   3917\u001b[0m             \u001b[0;32melse\u001b[0m\u001b[0;34m:\u001b[0m\u001b[0;34m\u001b[0m\u001b[0;34m\u001b[0m\u001b[0m\n\u001b[0;32m-> 3918\u001b[0;31m                 \u001b[0mnew_axis\u001b[0m \u001b[0;34m=\u001b[0m \u001b[0maxis\u001b[0m\u001b[0;34m.\u001b[0m\u001b[0mdrop\u001b[0m\u001b[0;34m(\u001b[0m\u001b[0mlabels\u001b[0m\u001b[0;34m,\u001b[0m \u001b[0merrors\u001b[0m\u001b[0;34m=\u001b[0m\u001b[0merrors\u001b[0m\u001b[0;34m)\u001b[0m\u001b[0;34m\u001b[0m\u001b[0;34m\u001b[0m\u001b[0m\n\u001b[0m\u001b[1;32m   3919\u001b[0m             \u001b[0mresult\u001b[0m \u001b[0;34m=\u001b[0m \u001b[0mself\u001b[0m\u001b[0;34m.\u001b[0m\u001b[0mreindex\u001b[0m\u001b[0;34m(\u001b[0m\u001b[0;34m**\u001b[0m\u001b[0;34m{\u001b[0m\u001b[0maxis_name\u001b[0m\u001b[0;34m:\u001b[0m \u001b[0mnew_axis\u001b[0m\u001b[0;34m}\u001b[0m\u001b[0;34m)\u001b[0m\u001b[0;34m\u001b[0m\u001b[0;34m\u001b[0m\u001b[0m\n\u001b[1;32m   3920\u001b[0m \u001b[0;34m\u001b[0m\u001b[0m\n",
      "\u001b[0;32m~/.virtualenvs/myenv/lib/python3.6/site-packages/pandas/core/indexes/base.py\u001b[0m in \u001b[0;36mdrop\u001b[0;34m(self, labels, errors)\u001b[0m\n\u001b[1;32m   5276\u001b[0m         \u001b[0;32mif\u001b[0m \u001b[0mmask\u001b[0m\u001b[0;34m.\u001b[0m\u001b[0many\u001b[0m\u001b[0;34m(\u001b[0m\u001b[0;34m)\u001b[0m\u001b[0;34m:\u001b[0m\u001b[0;34m\u001b[0m\u001b[0;34m\u001b[0m\u001b[0m\n\u001b[1;32m   5277\u001b[0m             \u001b[0;32mif\u001b[0m \u001b[0merrors\u001b[0m \u001b[0;34m!=\u001b[0m \u001b[0;34m\"ignore\"\u001b[0m\u001b[0;34m:\u001b[0m\u001b[0;34m\u001b[0m\u001b[0;34m\u001b[0m\u001b[0m\n\u001b[0;32m-> 5278\u001b[0;31m                 \u001b[0;32mraise\u001b[0m \u001b[0mKeyError\u001b[0m\u001b[0;34m(\u001b[0m\u001b[0;34mf\"{labels[mask]} not found in axis\"\u001b[0m\u001b[0;34m)\u001b[0m\u001b[0;34m\u001b[0m\u001b[0;34m\u001b[0m\u001b[0m\n\u001b[0m\u001b[1;32m   5279\u001b[0m             \u001b[0mindexer\u001b[0m \u001b[0;34m=\u001b[0m \u001b[0mindexer\u001b[0m\u001b[0;34m[\u001b[0m\u001b[0;34m~\u001b[0m\u001b[0mmask\u001b[0m\u001b[0;34m]\u001b[0m\u001b[0;34m\u001b[0m\u001b[0;34m\u001b[0m\u001b[0m\n\u001b[1;32m   5280\u001b[0m         \u001b[0;32mreturn\u001b[0m \u001b[0mself\u001b[0m\u001b[0;34m.\u001b[0m\u001b[0mdelete\u001b[0m\u001b[0;34m(\u001b[0m\u001b[0mindexer\u001b[0m\u001b[0;34m)\u001b[0m\u001b[0;34m\u001b[0m\u001b[0;34m\u001b[0m\u001b[0m\n",
      "\u001b[0;31mKeyError\u001b[0m: \"['Unnamed: 0'] not found in axis\""
     ]
    }
   ],
   "source": [
    "df_tr = df_tr.drop(['Unnamed: 0'], axis=1)\n",
    "df_te = df_te.drop(['Unnamed: 0'], axis=1)"
   ]
  },
  {
   "cell_type": "markdown",
   "metadata": {},
   "source": [
    "### Preprocessing feature: name"
   ]
  },
  {
   "cell_type": "code",
   "execution_count": 90,
   "metadata": {},
   "outputs": [
    {
     "data": {
      "text/plain": [
       "Index(['msno', 'song_id', 'source_system_tab', 'source_screen_name',\n",
       "       'source_type', 'target', 'song_length', 'genre_ids', 'artist_name',\n",
       "       'composer', 'lyricist', 'language', 'city', 'bd', 'gender',\n",
       "       'registered_via', 'name', 'country', 'membership_days',\n",
       "       'registration_year', 'registration_month', 'registration_date',\n",
       "       'expiration_year', 'expiration_month', 'song_year'],\n",
       "      dtype='object')"
      ]
     },
     "execution_count": 90,
     "metadata": {},
     "output_type": "execute_result"
    }
   ],
   "source": [
    "df_tr.columns"
   ]
  },
  {
   "cell_type": "code",
   "execution_count": 92,
   "metadata": {},
   "outputs": [
    {
     "data": {
      "text/plain": [
       "msno                     0\n",
       "song_id                  0\n",
       "source_system_tab        0\n",
       "source_screen_name       0\n",
       "source_type              0\n",
       "target                   0\n",
       "song_length              0\n",
       "genre_ids                0\n",
       "artist_name              0\n",
       "composer                 0\n",
       "lyricist                 0\n",
       "language                 0\n",
       "city                     0\n",
       "bd                       0\n",
       "gender                   0\n",
       "registered_via           0\n",
       "name                  1457\n",
       "country                  0\n",
       "membership_days          0\n",
       "registration_year        0\n",
       "registration_month       0\n",
       "registration_date        0\n",
       "expiration_year          0\n",
       "expiration_month         0\n",
       "song_year                0\n",
       "dtype: int64"
      ]
     },
     "execution_count": 92,
     "metadata": {},
     "output_type": "execute_result"
    }
   ],
   "source": [
    "df_tr.isnull().sum()"
   ]
  },
  {
   "cell_type": "code",
   "execution_count": null,
   "metadata": {},
   "outputs": [],
   "source": [
    "df_tr['name'][:10]"
   ]
  },
  {
   "cell_type": "code",
   "execution_count": 95,
   "metadata": {},
   "outputs": [
    {
     "data": {
      "text/plain": [
       "msno                  0\n",
       "song_id               0\n",
       "source_system_tab     0\n",
       "source_screen_name    0\n",
       "source_type           0\n",
       "target                0\n",
       "song_length           0\n",
       "genre_ids             0\n",
       "artist_name           0\n",
       "composer              0\n",
       "lyricist              0\n",
       "language              0\n",
       "city                  0\n",
       "bd                    0\n",
       "gender                0\n",
       "registered_via        0\n",
       "name                  0\n",
       "country               0\n",
       "membership_days       0\n",
       "registration_year     0\n",
       "registration_month    0\n",
       "registration_date     0\n",
       "expiration_year       0\n",
       "expiration_month      0\n",
       "song_year             0\n",
       "dtype: int64"
      ]
     },
     "execution_count": 95,
     "metadata": {},
     "output_type": "execute_result"
    }
   ],
   "source": [
    "df_tr.isnull().sum()"
   ]
  },
  {
   "cell_type": "code",
   "execution_count": 94,
   "metadata": {},
   "outputs": [],
   "source": [
    "df_tr.to_csv('Train_prep1.csv')\n",
    "df_te.to_csv('Test_prep1.csv')"
   ]
  },
  {
   "cell_type": "code",
   "execution_count": 109,
   "metadata": {},
   "outputs": [],
   "source": [
    "df_tr = pd.read_csv('Train_prep1.csv')\n",
    "df_te = pd.read_csv('Test_prep1.csv')"
   ]
  },
  {
   "cell_type": "code",
   "execution_count": 110,
   "metadata": {},
   "outputs": [
    {
     "data": {
      "text/plain": [
       "Unnamed: 0            0\n",
       "Unnamed: 0.1          0\n",
       "msno                  0\n",
       "song_id               0\n",
       "source_system_tab     0\n",
       "source_screen_name    0\n",
       "source_type           0\n",
       "target                0\n",
       "song_length           0\n",
       "genre_ids             0\n",
       "artist_name           0\n",
       "composer              0\n",
       "lyricist              0\n",
       "language              0\n",
       "city                  0\n",
       "bd                    0\n",
       "gender                0\n",
       "registered_via        0\n",
       "name                  0\n",
       "country               0\n",
       "membership_days       0\n",
       "registration_year     0\n",
       "registration_month    0\n",
       "registration_date     0\n",
       "expiration_year       0\n",
       "expiration_month      0\n",
       "song_year             0\n",
       "dtype: int64"
      ]
     },
     "execution_count": 110,
     "metadata": {},
     "output_type": "execute_result"
    }
   ],
   "source": [
    "df_tr.isna().sum()"
   ]
  },
  {
   "cell_type": "code",
   "execution_count": 114,
   "metadata": {},
   "outputs": [],
   "source": [
    "df_tr['composer'].fillna('notavailable', inplace = True)\n",
    "df_te['composer'].fillna('notavailable', inplace = True)"
   ]
  },
  {
   "cell_type": "code",
   "execution_count": 115,
   "metadata": {},
   "outputs": [],
   "source": [
    "df_tr['lyricist'].fillna('notavailable', inplace = True)\n",
    "df_te['lyricist'].fillna('notavailable', inplace = True)\n"
   ]
  },
  {
   "cell_type": "code",
   "execution_count": 116,
   "metadata": {},
   "outputs": [],
   "source": [
    "df_tr['name'].fillna('notavailable', inplace = True)\n",
    "df_te['name'].fillna('notavailable', inplace = True)"
   ]
  },
  {
   "cell_type": "code",
   "execution_count": 117,
   "metadata": {},
   "outputs": [],
   "source": [
    "df_tr.to_csv('Train_prep1.csv')\n",
    "df_te.to_csv('Test_prep1.csv')"
   ]
  },
  {
   "cell_type": "code",
   "execution_count": 106,
   "metadata": {},
   "outputs": [
    {
     "data": {
      "text/plain": [
       "Unnamed: 0            0\n",
       "msno                  0\n",
       "song_id               0\n",
       "source_system_tab     0\n",
       "source_screen_name    0\n",
       "source_type           0\n",
       "target                0\n",
       "song_length           0\n",
       "genre_ids             0\n",
       "artist_name           0\n",
       "composer              0\n",
       "lyricist              0\n",
       "language              0\n",
       "city                  0\n",
       "bd                    0\n",
       "gender                0\n",
       "registered_via        0\n",
       "name                  6\n",
       "country               0\n",
       "membership_days       0\n",
       "registration_year     0\n",
       "registration_month    0\n",
       "registration_date     0\n",
       "expiration_year       0\n",
       "expiration_month      0\n",
       "song_year             0\n",
       "dtype: int64"
      ]
     },
     "execution_count": 106,
     "metadata": {},
     "output_type": "execute_result"
    }
   ],
   "source": [
    "df_tr.isna().sum()"
   ]
  },
  {
   "cell_type": "code",
   "execution_count": null,
   "metadata": {},
   "outputs": [],
   "source": []
  }
 ],
 "metadata": {
  "colab": {
   "collapsed_sections": [],
   "name": "Music Recom.ipynb",
   "provenance": []
  },
  "kernelspec": {
   "display_name": "Python 3",
   "language": "python",
   "name": "python3"
  },
  "language_info": {
   "codemirror_mode": {
    "name": "ipython",
    "version": 3
   },
   "file_extension": ".py",
   "mimetype": "text/x-python",
   "name": "python",
   "nbconvert_exporter": "python",
   "pygments_lexer": "ipython3",
   "version": "3.6.9"
  }
 },
 "nbformat": 4,
 "nbformat_minor": 1
}
