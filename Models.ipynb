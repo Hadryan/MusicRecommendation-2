{
 "cells": [
  {
   "cell_type": "code",
   "execution_count": 1,
   "metadata": {},
   "outputs": [],
   "source": [
    "import pandas as pd\n",
    "import seaborn as sns\n",
    "import matplotlib.pyplot as plt\n",
    "import pickle\n",
    "import numpy as np\n",
    "import warnings\n",
    "warnings.filterwarnings('ignore')\n",
    "from sklearn.feature_extraction.text import CountVectorizer\n",
    "from sklearn.preprocessing import Normalizer\n",
    "from scipy.sparse import hstack\n",
    "import scipy\n",
    "from tqdm import tqdm"
   ]
  },
  {
   "cell_type": "code",
   "execution_count": 2,
   "metadata": {},
   "outputs": [],
   "source": [
    "df_tr = pd.read_csv('Train_prep1.csv', dtype ={'msno' : 'category',\n",
    "                                               'song_id' : 'category',\n",
    "                                                'source_system_tab' : 'category',\n",
    "                                                  'source_screen_name' : 'category',\n",
    "                                                  'source_type' : 'category',\n",
    "                                                  'target' : np.uint8,\n",
    "                                                  \n",
    "                                               'genre_ids': 'category',\n",
    "                                                  'artist_name' : 'category',\n",
    "                                                  'composer' : 'category',\n",
    "                                                  'lyricist' : 'category',\n",
    "                                               'language' : 'category',\n",
    "                                               'city' : 'category',\n",
    "                                               'bd' : np.uint8,\n",
    "                                               'gender' : 'category',\n",
    "                                            'registered_via' : 'category',\n",
    "                                               'name' : 'category',\n",
    "                                               'country' : 'category'\n",
    "                                              })\n",
    "df_te = pd.read_csv('Test_prep1.csv',dtype ={'msno' : 'category',\n",
    "                                               'song_id' : 'category',\n",
    "                                                'source_system_tab' : 'category',\n",
    "                                                  'source_screen_name' : 'category',\n",
    "                                                  'source_type' : 'category',\n",
    "                                                  \n",
    "                                               'genre_ids': 'category',\n",
    "                                                  'artist_name' : 'category',\n",
    "                                                  'composer' : 'category',\n",
    "                                                  'lyricist' : 'category',\n",
    "                                               'language' : 'category',\n",
    "                                               'city' : 'category',\n",
    "                                               'bd' : np.uint8,\n",
    "                                               'gender' : 'category',\n",
    "                                            'registered_via' : 'category',\n",
    "                                               'name' : 'category',\n",
    "                                               'country' : 'category'})"
   ]
  },
  {
   "cell_type": "code",
   "execution_count": 3,
   "metadata": {},
   "outputs": [
    {
     "data": {
      "text/plain": [
       "((7377409, 28), (2556790, 27))"
      ]
     },
     "execution_count": 3,
     "metadata": {},
     "output_type": "execute_result"
    }
   ],
   "source": [
    "df_tr.shape, df_te.shape"
   ]
  },
  {
   "cell_type": "code",
   "execution_count": 4,
   "metadata": {},
   "outputs": [
    {
     "data": {
      "text/plain": [
       "Unnamed: 0            0\n",
       "Unnamed: 0.1          0\n",
       "Unnamed: 0.1.1        0\n",
       "msno                  0\n",
       "song_id               0\n",
       "source_system_tab     0\n",
       "source_screen_name    0\n",
       "source_type           0\n",
       "target                0\n",
       "song_length           0\n",
       "genre_ids             0\n",
       "artist_name           0\n",
       "composer              0\n",
       "lyricist              0\n",
       "language              0\n",
       "city                  0\n",
       "bd                    0\n",
       "gender                0\n",
       "registered_via        0\n",
       "name                  0\n",
       "country               0\n",
       "membership_days       0\n",
       "registration_year     0\n",
       "registration_month    0\n",
       "registration_date     0\n",
       "expiration_year       0\n",
       "expiration_month      0\n",
       "song_year             0\n",
       "dtype: int64"
      ]
     },
     "execution_count": 4,
     "metadata": {},
     "output_type": "execute_result"
    }
   ],
   "source": [
    "df_tr.isna().sum()"
   ]
  },
  {
   "cell_type": "code",
   "execution_count": 5,
   "metadata": {},
   "outputs": [
    {
     "data": {
      "text/plain": [
       "0     2940497\n",
       "25     261906\n",
       "24     258688\n",
       "26     257868\n",
       "22     255731\n",
       "       ...   \n",
       "85         12\n",
       "89         11\n",
       "93         10\n",
       "78          7\n",
       "76          3\n",
       "Name: bd, Length: 91, dtype: int64"
      ]
     },
     "execution_count": 5,
     "metadata": {},
     "output_type": "execute_result"
    }
   ],
   "source": [
    "df_tr['bd'].value_counts()"
   ]
  },
  {
   "cell_type": "code",
   "execution_count": 6,
   "metadata": {},
   "outputs": [],
   "source": [
    "import seaborn as sns"
   ]
  },
  {
   "cell_type": "code",
   "execution_count": 7,
   "metadata": {},
   "outputs": [
    {
     "data": {
      "text/plain": [
       "<AxesSubplot:xlabel='bd'>"
      ]
     },
     "execution_count": 7,
     "metadata": {},
     "output_type": "execute_result"
    },
    {
     "data": {
      "image/png": "[encoded data removed]",
      "text/plain": [
       "<Figure size 432x288 with 1 Axes>"
      ]
     },
     "metadata": {},
     "output_type": "display_data"
    }
   ],
   "source": [
    "sns.set_style('whitegrid') \n",
    "sns.boxplot(df_tr['bd'] )"
   ]
  },
  {
   "cell_type": "markdown",
   "metadata": {},
   "source": [
    "- Age Feature  contains outliers so we need to handle those cases"
   ]
  },
  {
   "cell_type": "code",
   "execution_count": 8,
   "metadata": {},
   "outputs": [
    {
     "data": {
      "text/plain": [
       "0.3998    14.0\n",
       "0.4000    14.0\n",
       "0.9980    65.0\n",
       "0.9989    73.0\n",
       "0.9992    82.0\n",
       "Name: bd, dtype: float64"
      ]
     },
     "execution_count": 8,
     "metadata": {},
     "output_type": "execute_result"
    }
   ],
   "source": [
    "df_tr['bd'].quantile([.3998, 0.4,0.998, 0.9989, 0.9992])"
   ]
  },
  {
   "cell_type": "code",
   "execution_count": 9,
   "metadata": {},
   "outputs": [
    {
     "data": {
      "text/plain": [
       "0    2940497\n",
       "3        507\n",
       "2        323\n",
       "Name: bd, dtype: int64"
      ]
     },
     "execution_count": 9,
     "metadata": {},
     "output_type": "execute_result"
    }
   ],
   "source": [
    "# Replacing age values greater than 100 with median 21\n",
    "# Replacing all zeros with 14\n",
    "# Replacing age value between 74 and 100 by 74(99.89 Percentile)\n",
    "df_tr[df_tr['bd'] < 5 ]['bd'].value_counts()"
   ]
  },
  {
   "cell_type": "code",
   "execution_count": 10,
   "metadata": {},
   "outputs": [
    {
     "data": {
      "text/plain": [
       "21.0"
      ]
     },
     "execution_count": 10,
     "metadata": {},
     "output_type": "execute_result"
    }
   ],
   "source": [
    "df_tr['bd'].median()"
   ]
  },
  {
   "cell_type": "code",
   "execution_count": 11,
   "metadata": {},
   "outputs": [
    {
     "data": {
      "text/html": [
       "<div>\n",
       "<style scoped>\n",
       "    .dataframe tbody tr th:only-of-type {\n",
       "        vertical-align: middle;\n",
       "    }\n",
       "\n",
       "    .dataframe tbody tr th {\n",
       "        vertical-align: top;\n",
       "    }\n",
       "\n",
       "    .dataframe thead th {\n",
       "        text-align: right;\n",
       "    }\n",
       "</style>\n",
       "<table border=\"1\" class=\"dataframe\">\n",
       "  <thead>\n",
       "    <tr style=\"text-align: right;\">\n",
       "      <th></th>\n",
       "      <th>Unnamed: 0</th>\n",
       "      <th>Unnamed: 0.1</th>\n",
       "      <th>Unnamed: 0.1.1</th>\n",
       "      <th>msno</th>\n",
       "      <th>song_id</th>\n",
       "      <th>source_system_tab</th>\n",
       "      <th>source_screen_name</th>\n",
       "      <th>source_type</th>\n",
       "      <th>target</th>\n",
       "      <th>song_length</th>\n",
       "      <th>...</th>\n",
       "      <th>registered_via</th>\n",
       "      <th>name</th>\n",
       "      <th>country</th>\n",
       "      <th>membership_days</th>\n",
       "      <th>registration_year</th>\n",
       "      <th>registration_month</th>\n",
       "      <th>registration_date</th>\n",
       "      <th>expiration_year</th>\n",
       "      <th>expiration_month</th>\n",
       "      <th>song_year</th>\n",
       "    </tr>\n",
       "  </thead>\n",
       "  <tbody>\n",
       "  </tbody>\n",
       "</table>\n",
       "<p>0 rows × 28 columns</p>\n",
       "</div>"
      ],
      "text/plain": [
       "Empty DataFrame\n",
       "Columns: [Unnamed: 0, Unnamed: 0.1, Unnamed: 0.1.1, msno, song_id, source_system_tab, source_screen_name, source_type, target, song_length, genre_ids, artist_name, composer, lyricist, language, city, bd, gender, registered_via, name, country, membership_days, registration_year, registration_month, registration_date, expiration_year, expiration_month, song_year]\n",
       "Index: []\n",
       "\n",
       "[0 rows x 28 columns]"
      ]
     },
     "execution_count": 11,
     "metadata": {},
     "output_type": "execute_result"
    }
   ],
   "source": [
    "df_tr[df_tr.bd.isna()]"
   ]
  },
  {
   "cell_type": "code",
   "execution_count": 12,
   "metadata": {},
   "outputs": [],
   "source": [
    "df_tr.loc[(df_tr['bd'] >= 0) & (df_tr['bd']< 14)  ,'bd'] = 14\n",
    "df_tr.loc[(df_tr['bd'] > 75) & (df_tr['bd']< 100)  ,'bd'] = 75\n",
    "df_tr.loc[ df_tr['bd'] >= 100 ,'bd'] = df_tr['bd'].median()\n",
    "df_tr['bd'] = df_tr['bd'].abs()"
   ]
  },
  {
   "cell_type": "code",
   "execution_count": 13,
   "metadata": {},
   "outputs": [],
   "source": [
    "df_te.loc[(df_te['bd']< 14) & (df_te['bd'] >= 0) ,'bd'] = 14\n",
    "df_te.loc[(df_te['bd']< 100) & (df_te['bd'] > 75) ,'bd'] = 75\n",
    "df_te.loc[ df_te['bd'] >= 100 ,'bd'] = df_tr['bd'].median()\n",
    "df_te['bd'] = df_te['bd'].abs()"
   ]
  },
  {
   "cell_type": "code",
   "execution_count": 14,
   "metadata": {},
   "outputs": [
    {
     "data": {
      "text/plain": [
       "0"
      ]
     },
     "execution_count": 14,
     "metadata": {},
     "output_type": "execute_result"
    }
   ],
   "source": [
    "df_tr.bd.isnull().sum()"
   ]
  },
  {
   "cell_type": "code",
   "execution_count": 15,
   "metadata": {},
   "outputs": [
    {
     "data": {
      "text/plain": [
       "Unnamed: 0            0\n",
       "Unnamed: 0.1          0\n",
       "Unnamed: 0.1.1        0\n",
       "msno                  0\n",
       "song_id               0\n",
       "source_system_tab     0\n",
       "source_screen_name    0\n",
       "source_type           0\n",
       "song_length           0\n",
       "genre_ids             0\n",
       "artist_name           0\n",
       "composer              0\n",
       "lyricist              0\n",
       "language              0\n",
       "city                  0\n",
       "bd                    0\n",
       "gender                0\n",
       "registered_via        0\n",
       "name                  0\n",
       "country               0\n",
       "membership_days       0\n",
       "registration_year     0\n",
       "registration_month    0\n",
       "registration_date     0\n",
       "expiration_year       0\n",
       "expiration_month      0\n",
       "song_year             0\n",
       "dtype: int64"
      ]
     },
     "execution_count": 15,
     "metadata": {},
     "output_type": "execute_result"
    }
   ],
   "source": [
    "df_te.isna().sum()"
   ]
  },
  {
   "cell_type": "code",
   "execution_count": 16,
   "metadata": {},
   "outputs": [
    {
     "data": {
      "text/plain": [
       "Text(0.5, 1.0, 'test')"
      ]
     },
     "execution_count": 16,
     "metadata": {},
     "output_type": "execute_result"
    },
    {
     "data": {
      "image/png": "[encoded data removed]",
      "text/plain": [
       "<Figure size 432x288 with 2 Axes>"
      ]
     },
     "metadata": {},
     "output_type": "display_data"
    }
   ],
   "source": [
    "sns.set_style('whitegrid') \n",
    "f, axes = plt.subplots(1, 2)\n",
    "sns.boxplot(df_te['bd'],ax = axes[0] ).set_title('train')\n",
    "sns.boxplot(df_tr['bd'],ax = axes[1]) .set_title('test')"
   ]
  },
  {
   "cell_type": "code",
   "execution_count": 17,
   "metadata": {},
   "outputs": [
    {
     "data": {
      "text/plain": [
       "2017"
      ]
     },
     "execution_count": 17,
     "metadata": {},
     "output_type": "execute_result"
    }
   ],
   "source": [
    "df_tr['song_year'].max()"
   ]
  },
  {
   "cell_type": "code",
   "execution_count": 20,
   "metadata": {},
   "outputs": [
    {
     "data": {
      "text/plain": [
       "0    2003.0\n",
       "1    1993.0\n",
       "2    1993.0\n",
       "3    1993.0\n",
       "4    2003.0\n",
       "5    2003.0\n",
       "6    1993.0\n",
       "7    2003.0\n",
       "8    1991.0\n",
       "9    1991.0\n",
       "Name: user_bd, dtype: float64"
      ]
     },
     "execution_count": 20,
     "metadata": {},
     "output_type": "execute_result"
    }
   ],
   "source": [
    "# Creating new feature User date of birth based on age of the user and year of the dataset\n",
    "df_tr['user_bd'] = 2017- df_tr['bd']\n",
    "df_tr['user_bd'].head(10)"
   ]
  },
  {
   "cell_type": "code",
   "execution_count": 21,
   "metadata": {},
   "outputs": [
    {
     "data": {
      "text/plain": [
       "0    2003.0\n",
       "1    2003.0\n",
       "2    2003.0\n",
       "3    1987.0\n",
       "4    1987.0\n",
       "5    1987.0\n",
       "6    1987.0\n",
       "7    1987.0\n",
       "8    1987.0\n",
       "9    2003.0\n",
       "Name: user_bd, dtype: float64"
      ]
     },
     "execution_count": 21,
     "metadata": {},
     "output_type": "execute_result"
    }
   ],
   "source": [
    "df_te['user_bd'] = 2017- df_te['bd']\n",
    "df_te['user_bd'].head(10)"
   ]
  },
  {
   "cell_type": "code",
   "execution_count": 22,
   "metadata": {},
   "outputs": [
    {
     "data": {
      "text/plain": [
       " 13.0    935063\n",
       " 12.0    443288\n",
       " 10.0    418537\n",
       " 11.0    294693\n",
       " 21.0    228200\n",
       "          ...  \n",
       "-75.0        55\n",
       "-80.0        42\n",
       "-73.0        38\n",
       "-81.0        28\n",
       " 75.0         8\n",
       "Name: user_song_agediff, Length: 161, dtype: int64"
      ]
     },
     "execution_count": 22,
     "metadata": {},
     "output_type": "execute_result"
    }
   ],
   "source": [
    "# Creating new feature of age difference between user and song\n",
    "df_tr['user_song_agediff'] = df_tr['song_year']- df_tr['user_bd']\n",
    "df_tr['user_song_agediff'].value_counts()"
   ]
  },
  {
   "cell_type": "code",
   "execution_count": 23,
   "metadata": {},
   "outputs": [
    {
     "data": {
      "text/plain": [
       " 13.0    278694\n",
       " 14.0    142569\n",
       " 10.0    142130\n",
       " 12.0    128494\n",
       " 11.0     92814\n",
       "          ...  \n",
       "-55.0        21\n",
       "-57.0        20\n",
       "-73.0        14\n",
       "-75.0         8\n",
       " 75.0         5\n",
       "Name: user_song_agediff, Length: 161, dtype: int64"
      ]
     },
     "execution_count": 23,
     "metadata": {},
     "output_type": "execute_result"
    }
   ],
   "source": [
    "df_te['user_song_agediff'] = df_te['song_year']- df_te['user_bd']\n",
    "df_te['user_song_agediff'].value_counts()"
   ]
  },
  {
   "cell_type": "code",
   "execution_count": 24,
   "metadata": {},
   "outputs": [
    {
     "data": {
      "text/plain": [
       "(0, 0)"
      ]
     },
     "execution_count": 24,
     "metadata": {},
     "output_type": "execute_result"
    }
   ],
   "source": [
    "df_tr['user_song_agediff'].isna().sum(),df_te['user_song_agediff'].isna().sum()\n"
   ]
  },
  {
   "cell_type": "code",
   "execution_count": 25,
   "metadata": {},
   "outputs": [
    {
     "data": {
      "text/plain": [
       "Text(0.5, 1.0, 'test')"
      ]
     },
     "execution_count": 25,
     "metadata": {},
     "output_type": "execute_result"
    },
    {
     "data": {
      "image/png": "[encoded data removed]",
      "text/plain": [
       "<Figure size 432x288 with 2 Axes>"
      ]
     },
     "metadata": {},
     "output_type": "display_data"
    }
   ],
   "source": [
    "f, axes = plt.subplots(1, 2)\n",
    "sns.distplot(df_tr['user_song_agediff'], bins = 100, ax = axes[0]).set_title('train')\n",
    "sns.distplot(df_te['user_song_agediff'], bins = 100, ax = axes[1]).set_title('test')"
   ]
  },
  {
   "cell_type": "code",
   "execution_count": 26,
   "metadata": {},
   "outputs": [],
   "source": [
    "# Normalizing the user_song_agediff\n",
    "age_max = df_tr['user_song_agediff'].max()\n",
    "age_min = df_tr['user_song_agediff'].min()\n",
    "df_tr['user_song_agediff'] = (df_tr['user_song_agediff'] - age_min)/(age_min-age_max)\n",
    "df_te['user_song_agediff'] = (df_te['user_song_agediff'] - age_min)/(age_min-age_max)"
   ]
  },
  {
   "cell_type": "code",
   "execution_count": 27,
   "metadata": {},
   "outputs": [
    {
     "data": {
      "text/plain": [
       "Index(['Unnamed: 0', 'Unnamed: 0.1', 'Unnamed: 0.1.1', 'msno', 'song_id',\n",
       "       'source_system_tab', 'source_screen_name', 'source_type', 'target',\n",
       "       'song_length', 'genre_ids', 'artist_name', 'composer', 'lyricist',\n",
       "       'language', 'city', 'bd', 'gender', 'registered_via', 'name', 'country',\n",
       "       'membership_days', 'registration_year', 'registration_month',\n",
       "       'registration_date', 'expiration_year', 'expiration_month', 'song_year',\n",
       "       'user_bd', 'user_song_agediff'],\n",
       "      dtype='object')"
      ]
     },
     "execution_count": 27,
     "metadata": {},
     "output_type": "execute_result"
    }
   ],
   "source": [
    "df_tr.columns"
   ]
  },
  {
   "cell_type": "code",
   "execution_count": 28,
   "metadata": {},
   "outputs": [
    {
     "data": {
      "text/plain": [
       "Index(['Unnamed: 0', 'Unnamed: 0.1', 'Unnamed: 0.1.1', 'msno', 'song_id',\n",
       "       'source_system_tab', 'source_screen_name', 'source_type', 'song_length',\n",
       "       'genre_ids', 'artist_name', 'composer', 'lyricist', 'language', 'city',\n",
       "       'bd', 'gender', 'registered_via', 'name', 'country', 'membership_days',\n",
       "       'registration_year', 'registration_month', 'registration_date',\n",
       "       'expiration_year', 'expiration_month', 'song_year', 'user_bd',\n",
       "       'user_song_agediff'],\n",
       "      dtype='object')"
      ]
     },
     "execution_count": 28,
     "metadata": {},
     "output_type": "execute_result"
    }
   ],
   "source": [
    "df_te.columns"
   ]
  },
  {
   "cell_type": "code",
   "execution_count": 29,
   "metadata": {},
   "outputs": [],
   "source": [
    "# Droping user_bd as it might correlate with user_song_agediff\n",
    "df_tr.drop(['Unnamed: 0', 'user_bd'], axis=1 , inplace= True)\n",
    "df_te.drop(['Unnamed: 0', 'user_bd'], axis=1 , inplace= True)"
   ]
  },
  {
   "cell_type": "code",
   "execution_count": 30,
   "metadata": {},
   "outputs": [],
   "source": [
    "df_tr.loc[df_tr['membership_days'] < 0, 'membership_days'] = 0"
   ]
  },
  {
   "cell_type": "code",
   "execution_count": 31,
   "metadata": {},
   "outputs": [],
   "source": [
    "days_max = df_tr['membership_days'].max()\n",
    "days_min = df_tr['membership_days'].min()\n",
    "df_tr['membership_days'] = (df_tr['membership_days'] - days_min)/(days_min-days_max)\n",
    "df_te['membership_days'] = (df_te['membership_days'] - days_min)/(days_min-days_max)"
   ]
  },
  {
   "cell_type": "code",
   "execution_count": 32,
   "metadata": {},
   "outputs": [
    {
     "data": {
      "text/plain": [
       "Text(0.5, 1.0, 'test')"
      ]
     },
     "execution_count": 32,
     "metadata": {},
     "output_type": "execute_result"
    },
    {
     "data": {
      "image/png": "[encoded data removed]",
      "text/plain": [
       "<Figure size 432x288 with 2 Axes>"
      ]
     },
     "metadata": {},
     "output_type": "display_data"
    }
   ],
   "source": [
    "f, axes = plt.subplots(1, 2)\n",
    "sns.distplot(df_tr['membership_days'], bins = 100, ax = axes[0]).set_title('train')\n",
    "sns.distplot(df_te['membership_days'], bins = 100, ax = axes[1]).set_title('test')"
   ]
  },
  {
   "cell_type": "code",
   "execution_count": 33,
   "metadata": {},
   "outputs": [
    {
     "data": {
      "text/plain": [
       "Text(0.5, 1.0, 'test')"
      ]
     },
     "execution_count": 33,
     "metadata": {},
     "output_type": "execute_result"
    },
    {
     "data": {
      "image/png": "[encoded data removed]",
      "text/plain": [
       "<Figure size 432x288 with 2 Axes>"
      ]
     },
     "metadata": {},
     "output_type": "display_data"
    }
   ],
   "source": [
    "f, axes = plt.subplots(1, 2)\n",
    "sns.distplot(df_tr['song_year'], bins = 100, ax = axes[0]).set_title('train')\n",
    "sns.distplot(df_te['song_year'], bins = 100, ax = axes[1]).set_title('test')"
   ]
  },
  {
   "cell_type": "code",
   "execution_count": 34,
   "metadata": {},
   "outputs": [],
   "source": [
    "#df_tr['song_id'].groupby('msno')\n",
    "song_count = dict(df_tr['msno'].value_counts())"
   ]
  },
  {
   "cell_type": "code",
   "execution_count": 35,
   "metadata": {},
   "outputs": [],
   "source": [
    "df_tr['song_count'] = np.nan\n",
    "for user in song_count.keys():\n",
    "    df_tr.loc[(df_tr['msno'] == user),'song_count'] = song_count.get(user)"
   ]
  },
  {
   "cell_type": "code",
   "execution_count": 36,
   "metadata": {},
   "outputs": [],
   "source": [
    "df_te['song_count'] = np.nan\n",
    "for user in song_count.keys():\n",
    "    df_te.loc[(df_te['msno'] == user),'song_count'] = song_count.get(user, -1)"
   ]
  },
  {
   "cell_type": "code",
   "execution_count": null,
   "metadata": {},
   "outputs": [],
   "source": []
  },
  {
   "cell_type": "code",
   "execution_count": 37,
   "metadata": {},
   "outputs": [
    {
     "data": {
      "text/plain": [
       "Unnamed: 0.1          0\n",
       "Unnamed: 0.1.1        0\n",
       "msno                  0\n",
       "song_id               0\n",
       "source_system_tab     0\n",
       "source_screen_name    0\n",
       "source_type           0\n",
       "target                0\n",
       "song_length           0\n",
       "genre_ids             0\n",
       "artist_name           0\n",
       "composer              0\n",
       "lyricist              0\n",
       "language              0\n",
       "city                  0\n",
       "bd                    0\n",
       "gender                0\n",
       "registered_via        0\n",
       "name                  0\n",
       "country               0\n",
       "membership_days       0\n",
       "registration_year     0\n",
       "registration_month    0\n",
       "registration_date     0\n",
       "expiration_year       0\n",
       "expiration_month      0\n",
       "song_year             0\n",
       "user_song_agediff     0\n",
       "song_count            0\n",
       "dtype: int64"
      ]
     },
     "execution_count": 37,
     "metadata": {},
     "output_type": "execute_result"
    }
   ],
   "source": [
    "df_tr.isna().sum()"
   ]
  },
  {
   "cell_type": "code",
   "execution_count": 38,
   "metadata": {},
   "outputs": [],
   "source": [
    "df_tr.to_csv('df_tr.csv')\n",
    "df_te.to_csv('df_te.csv')\n"
   ]
  },
  {
   "cell_type": "code",
   "execution_count": 7,
   "metadata": {},
   "outputs": [],
   "source": [
    "df_tr = pd.read_csv('df_tr.csv')\n",
    "df_te = pd.read_csv('df_te.csv')"
   ]
  },
  {
   "cell_type": "code",
   "execution_count": 18,
   "metadata": {},
   "outputs": [],
   "source": [
    "df_tr = pd.read_csv('df_tr.csv', dtype ={'msno' : 'category',\n",
    "                                               'song_id' : 'category',\n",
    "                                                'source_system_tab' : 'category',\n",
    "                                                  'source_screen_name' : 'category',\n",
    "                                                  'source_type' : 'category',\n",
    "                                                  'target' : np.uint8,\n",
    "                                                  \n",
    "                                               'genre_ids': 'category',\n",
    "                                                  'artist_name' : 'category',\n",
    "                                                  'composer' : 'category',\n",
    "                                                  'lyricist' : 'category',\n",
    "                                               'language' : 'category',\n",
    "                                               'city' : 'category',\n",
    "                                               'bd' : np.uint8,\n",
    "                                               'gender' : 'category',\n",
    "                                            'registered_via' : 'category',\n",
    "                                               'name' : 'category',\n",
    "                                               'country' : 'category',\n",
    "                                         'registration_year':'category', \n",
    "                                         'registration_month': 'category',\n",
    "                                           'registration_date': 'category', \n",
    "                                         'expiration_year': 'category', \n",
    "                                         'expiration_month': 'category'\n",
    "                                              })\n",
    "df_te = pd.read_csv('df_te.csv',dtype ={'msno' : 'category',\n",
    "                                               'song_id' : 'category',\n",
    "                                                'source_system_tab' : 'category',\n",
    "                                                  'source_screen_name' : 'category',\n",
    "                                                  'source_type' : 'category',\n",
    "                                                  \n",
    "                                               'genre_ids': 'category',\n",
    "                                                  'artist_name' : 'category',\n",
    "                                                  'composer' : 'category',\n",
    "                                                  'lyricist' : 'category',\n",
    "                                               'language' : 'category',\n",
    "                                               'city' : 'category',\n",
    "                                               'bd' : np.uint8,\n",
    "                                               'gender' : 'category',\n",
    "                                            'registered_via' : 'category',\n",
    "                                               'name' : 'category',\n",
    "                                               'country' : 'category',\n",
    "                                       'registration_year':'category', \n",
    "                                         'registration_month': 'category',\n",
    "                                           'registration_date': 'category', \n",
    "                                         'expiration_year': 'category', \n",
    "                                         'expiration_month': 'category'})"
   ]
  },
  {
   "cell_type": "code",
   "execution_count": 19,
   "metadata": {},
   "outputs": [
    {
     "data": {
      "text/plain": [
       "((7377409, 27), (7377409,))"
      ]
     },
     "execution_count": 19,
     "metadata": {},
     "output_type": "execute_result"
    }
   ],
   "source": [
    "Y = df_tr['target'].values\n",
    "X = df_tr.drop(['target','msno','song_id'], axis=1,inplace = False)\n",
    "X.shape, Y.shape"
   ]
  },
  {
   "cell_type": "code",
   "execution_count": 20,
   "metadata": {},
   "outputs": [
    {
     "data": {
      "text/plain": [
       "Index(['Unnamed: 0', 'Unnamed: 0.1', 'Unnamed: 0.1.1', 'msno', 'song_id',\n",
       "       'source_system_tab', 'source_screen_name', 'source_type', 'target',\n",
       "       'song_length', 'genre_ids', 'artist_name', 'composer', 'lyricist',\n",
       "       'language', 'city', 'bd', 'gender', 'registered_via', 'name', 'country',\n",
       "       'membership_days', 'registration_year', 'registration_month',\n",
       "       'registration_date', 'expiration_year', 'expiration_month', 'song_year',\n",
       "       'user_song_agediff', 'song_count'],\n",
       "      dtype='object')"
      ]
     },
     "execution_count": 20,
     "metadata": {},
     "output_type": "execute_result"
    }
   ],
   "source": [
    "df_tr.columns"
   ]
  },
  {
   "cell_type": "code",
   "execution_count": 21,
   "metadata": {},
   "outputs": [],
   "source": [
    "df_tr.drop(['Unnamed: 0', 'Unnamed: 0.1', 'Unnamed: 0.1.1'], axis=1 , inplace= True)\n",
    "df_te.drop(['Unnamed: 0', 'Unnamed: 0.1', 'Unnamed: 0.1.1'], axis=1 , inplace= True)"
   ]
  },
  {
   "cell_type": "markdown",
   "metadata": {},
   "source": [
    "<h2> Make Data Model Ready: encoding numerical, categorical features</h2>"
   ]
  },
  {
   "cell_type": "markdown",
   "metadata": {},
   "source": [
    "<h3>Encoding categorical features: 'source_system_tab'</h3>"
   ]
  },
  {
   "cell_type": "code",
   "execution_count": 112,
   "metadata": {},
   "outputs": [
    {
     "name": "stdout",
     "output_type": "stream",
     "text": [
      "After vectorizations\n",
      "(7377409, 9)\n",
      "(2556790, 9)\n"
     ]
    }
   ],
   "source": [
    "vectorizer = CountVectorizer()\n",
    "X_systemtab_ohe = vectorizer.fit_transform(X['source_system_tab'].values)\n",
    "X_te_systemtab_ohe = vectorizer.transform(X_te['source_system_tab'].values)\n",
    "print(\"After vectorizations\")\n",
    "print(X_systemtab_ohe.shape)\n",
    "print(X_te_systemtab_ohe.shape)"
   ]
  },
  {
   "cell_type": "markdown",
   "metadata": {},
   "source": [
    "<h3>Encoding categorical features: 'source_screen_name'</h3>"
   ]
  },
  {
   "cell_type": "code",
   "execution_count": 113,
   "metadata": {},
   "outputs": [
    {
     "name": "stdout",
     "output_type": "stream",
     "text": [
      "After vectorizations\n",
      "(7377409, 21)\n",
      "(2556790, 21)\n"
     ]
    }
   ],
   "source": [
    "X_screenname_ohe = vectorizer.fit_transform(X['source_screen_name'].values)\n",
    "X_te_screenname_ohe = vectorizer.transform(X_te['source_screen_name'].values)\n",
    "\n",
    "print(\"After vectorizations\")\n",
    "print(X_screenname_ohe.shape)\n",
    "print(X_te_screenname_ohe.shape)"
   ]
  },
  {
   "cell_type": "markdown",
   "metadata": {},
   "source": [
    "<h3>Encoding categorical features: 'source_type'</h3>"
   ]
  },
  {
   "cell_type": "code",
   "execution_count": 114,
   "metadata": {},
   "outputs": [
    {
     "name": "stdout",
     "output_type": "stream",
     "text": [
      "After vectorizations\n",
      "(7377409, 13)\n",
      "(2556790, 13)\n"
     ]
    }
   ],
   "source": [
    "X_sourcetype_ohe = vectorizer.fit_transform(X['source_type'].values)\n",
    "X_te_sourcetype_ohe = vectorizer.transform(X_te['source_type'].values)\n",
    "\n",
    "print(\"After vectorizations\")\n",
    "print(X_sourcetype_ohe.shape)\n",
    "print(X_te_sourcetype_ohe.shape)"
   ]
  },
  {
   "cell_type": "markdown",
   "metadata": {},
   "source": [
    "<h3>Encoding categorical features: 'language'</h3>"
   ]
  },
  {
   "cell_type": "code",
   "execution_count": 115,
   "metadata": {},
   "outputs": [
    {
     "name": "stdout",
     "output_type": "stream",
     "text": [
      "After vectorizations\n",
      "(7377409, 8)\n",
      "(2556790, 8)\n"
     ]
    }
   ],
   "source": [
    "X_lang_ohe = vectorizer.fit_transform(X['language'].values)\n",
    "X_te_lang_ohe = vectorizer.transform(X_te['language'].values)\n",
    "\n",
    "print(\"After vectorizations\")\n",
    "print(X_lang_ohe.shape)\n",
    "print(X_te_lang_ohe.shape)"
   ]
  },
  {
   "cell_type": "markdown",
   "metadata": {},
   "source": [
    "<h3>Encoding categorical features: 'city'</h3>"
   ]
  },
  {
   "cell_type": "code",
   "execution_count": 116,
   "metadata": {},
   "outputs": [
    {
     "name": "stdout",
     "output_type": "stream",
     "text": [
      "After vectorizations\n",
      "(7377409, 13)\n",
      "(2556790, 13)\n"
     ]
    }
   ],
   "source": [
    "X_city_ohe = vectorizer.fit_transform(X['city'].values)\n",
    "X_te_city_ohe = vectorizer.transform(X_te['city'].values)\n",
    "\n",
    "print(\"After vectorizations\")\n",
    "print(X_city_ohe.shape)\n",
    "print(X_te_city_ohe.shape)"
   ]
  },
  {
   "cell_type": "markdown",
   "metadata": {},
   "source": [
    "<h3>Encoding categorical features: 'gender'</h3>"
   ]
  },
  {
   "cell_type": "code",
   "execution_count": 117,
   "metadata": {},
   "outputs": [
    {
     "name": "stdout",
     "output_type": "stream",
     "text": [
      "After vectorizations\n",
      "(7377409, 3)\n",
      "(2556790, 3)\n"
     ]
    }
   ],
   "source": [
    "X_gender_ohe = vectorizer.fit_transform(X['gender'].values)\n",
    "X_te_gender_ohe = vectorizer.transform(X_te['gender'].values)\n",
    "\n",
    "print(\"After vectorizations\")\n",
    "print(X_gender_ohe.shape)\n",
    "print(X_te_gender_ohe.shape)"
   ]
  },
  {
   "cell_type": "markdown",
   "metadata": {},
   "source": [
    "<h3>Encoding categorical features: 'registered_via'</h3>"
   ]
  },
  {
   "cell_type": "code",
   "execution_count": 118,
   "metadata": {},
   "outputs": [],
   "source": [
    "X['registered_via'] = X['registered_via'].replace({'9':'Nine','7':'seven','4':'four','3':'three', '13':'thirteen'})\n",
    "X_te['registered_via'] = X_te['registered_via'].replace({'9':'Nine','7':'seven','4':'four','3':'three', '13':'thirteen'})"
   ]
  },
  {
   "cell_type": "code",
   "execution_count": 119,
   "metadata": {},
   "outputs": [
    {
     "name": "stdout",
     "output_type": "stream",
     "text": [
      "After vectorizations\n",
      "(7377409, 5)\n",
      "(2556790, 5)\n"
     ]
    }
   ],
   "source": [
    "X_reg_via_ohe = vectorizer.fit_transform(X['registered_via'])\n",
    "X_te_reg_via_ohe = vectorizer.transform(X_te['registered_via'])\n",
    "print(\"After vectorizations\")\n",
    "print(X_reg_via_ohe.shape)\n",
    "print(X_te_reg_via_ohe.shape)"
   ]
  },
  {
   "cell_type": "code",
   "execution_count": 120,
   "metadata": {},
   "outputs": [],
   "source": [
    "def response_coding_train( df, status,variable):\n",
    "    prefix_total_1 = dict(df[df[status] == 1][variable].value_counts())\n",
    "    prefix_total_0 = dict(df[df[status] == 0][variable].value_counts())\n",
    "    # To handle the missing value in both the classes\n",
    "    s1 = set(prefix_total_1.keys())\n",
    "    s0 = set(prefix_total_0.keys())\n",
    "    s = s1.union(s0)\n",
    "    for k in s:\n",
    "        if k not in s1:\n",
    "            prefix_total_1.update({k:0})\n",
    "        if k not in s0:\n",
    "            prefix_total_0.update({k:0}) \n",
    "    prefix_1 = {k:v /(v+prefix_total_0.get(k)) for k,v in prefix_total_1.items()}\n",
    "    prefix_0 = {k:v /(prefix_total_1.get(k)+v) for k,v in prefix_total_0.items()}\n",
    "    df['variable_0'] =  [ prefix_0.get(y)  for  y in   df[variable]]\n",
    "    df['variable_1'] =[ prefix_1.get(y)  for  y in   df[variable]] \n",
    "    return df['variable_0'], df['variable_1'] "
   ]
  },
  {
   "cell_type": "code",
   "execution_count": 121,
   "metadata": {},
   "outputs": [],
   "source": [
    "def response_coding_test(df, df_te, status, variable):\n",
    "    prefix_total_1 = dict(df[df[status] == 1][variable].value_counts())\n",
    "    prefix_total_0 = dict(df[df[status] == 0][variable].value_counts())\n",
    "    # To handle the missing value in both the classes\n",
    "    s1 = set(prefix_total_1.keys())\n",
    "    s0 = set(prefix_total_0.keys())\n",
    "    s = s1.union(s0)\n",
    "    for k in s:\n",
    "        if k not in s1:\n",
    "            prefix_total_1.update({k:0})\n",
    "        if k not in s0:\n",
    "            prefix_total_0.update({k:0}) \n",
    "    prefix_1 = {k:v /(v+prefix_total_0.get(k)) for k,v in prefix_total_1.items()}\n",
    "    prefix_0 = {k:v /(prefix_total_1.get(k)+v) for k,v in prefix_total_0.items()}\n",
    "    # to handle the values that are not present in the training set\n",
    "    mylist = list(df[variable].unique())\n",
    "    df_te['variable_0'] = [ prefix_0.get(y) if y in mylist else 0.5  for  y in  df_te[variable] ]\n",
    "    df_te['variable_1'] = [ prefix_1.get(y) if y in mylist else 0.5  for  y in  df_te[variable] ]\n",
    "    return df_te['variable_0'], df_te['variable_1']"
   ]
  },
  {
   "cell_type": "markdown",
   "metadata": {},
   "source": [
    "<h3>Response coding categorical features: 'gene_ids'</h3>"
   ]
  },
  {
   "cell_type": "code",
   "execution_count": 122,
   "metadata": {},
   "outputs": [
    {
     "data": {
      "text/plain": [
       "(7377409, 2)"
      ]
     },
     "execution_count": 122,
     "metadata": {},
     "output_type": "execute_result"
    }
   ],
   "source": [
    "df_tr['prefix_0'], df_tr['prefix_1'] = response_coding_train(df_tr, 'target', 'genre_ids')\n",
    "X_gene_ids_rs = np.array(df_tr[['prefix_0',  'prefix_1']])\n",
    "X_gene_ids_rs.shape"
   ]
  },
  {
   "cell_type": "code",
   "execution_count": 123,
   "metadata": {},
   "outputs": [
    {
     "data": {
      "text/plain": [
       "(2556790, 2)"
      ]
     },
     "execution_count": 123,
     "metadata": {},
     "output_type": "execute_result"
    }
   ],
   "source": [
    "df_te['prefix_0'], df_te['prefix_1'] = response_coding_test(df_tr,df_te, 'target', 'genre_ids')\n",
    "X_te_gene_ids_rs = np.array(df_te[['prefix_0',  'prefix_1']])\n",
    "X_te_gene_ids_rs.shape"
   ]
  },
  {
   "cell_type": "markdown",
   "metadata": {},
   "source": [
    "<h3>Response coding categorical features: 'artist_name'</h3>"
   ]
  },
  {
   "cell_type": "code",
   "execution_count": 124,
   "metadata": {},
   "outputs": [
    {
     "data": {
      "text/plain": [
       "(7377409, 2)"
      ]
     },
     "execution_count": 124,
     "metadata": {},
     "output_type": "execute_result"
    }
   ],
   "source": [
    "df_tr['prefix_0'], df_tr['prefix_1'] = response_coding_train(df_tr, 'target', 'artist_name')\n",
    "X_artist_rs = np.array(df_tr[['prefix_0',  'prefix_1']])\n",
    "X_artist_rs.shape"
   ]
  },
  {
   "cell_type": "code",
   "execution_count": 125,
   "metadata": {},
   "outputs": [
    {
     "data": {
      "text/plain": [
       "(2556790, 2)"
      ]
     },
     "execution_count": 125,
     "metadata": {},
     "output_type": "execute_result"
    }
   ],
   "source": [
    "df_te['prefix_0'], df_te['prefix_1'] = response_coding_test(df_tr,df_te, 'target', 'artist_name')\n",
    "X_te_artist_rs = np.array(df_te[['prefix_0',  'prefix_1']])\n",
    "X_te_artist_rs.shape"
   ]
  },
  {
   "cell_type": "markdown",
   "metadata": {},
   "source": [
    "<h3>Response coding categorical features: 'composer'</h3>"
   ]
  },
  {
   "cell_type": "code",
   "execution_count": 126,
   "metadata": {},
   "outputs": [
    {
     "data": {
      "text/plain": [
       "(7377409, 2)"
      ]
     },
     "execution_count": 126,
     "metadata": {},
     "output_type": "execute_result"
    }
   ],
   "source": [
    "df_tr['prefix_0'], df_tr['prefix_1'] = response_coding_train(df_tr, 'target', 'composer')\n",
    "X_composer_rs = np.array(df_tr[['prefix_0',  'prefix_1']])\n",
    "X_composer_rs.shape"
   ]
  },
  {
   "cell_type": "code",
   "execution_count": 127,
   "metadata": {},
   "outputs": [
    {
     "data": {
      "text/plain": [
       "(2556790, 2)"
      ]
     },
     "execution_count": 127,
     "metadata": {},
     "output_type": "execute_result"
    }
   ],
   "source": [
    "df_te['prefix_0'], df_te['prefix_1'] = response_coding_test(df_tr,df_te, 'target', 'composer')\n",
    "X_te_composer_rs = np.array(df_te[['prefix_0',  'prefix_1']])\n",
    "X_te_composer_rs.shape"
   ]
  },
  {
   "cell_type": "markdown",
   "metadata": {},
   "source": [
    "<h3>Response coding categorical features:  'lyricist'</h3>"
   ]
  },
  {
   "cell_type": "code",
   "execution_count": 128,
   "metadata": {},
   "outputs": [
    {
     "data": {
      "text/plain": [
       "(7377409, 2)"
      ]
     },
     "execution_count": 128,
     "metadata": {},
     "output_type": "execute_result"
    }
   ],
   "source": [
    "df_tr['prefix_0'], df_tr['prefix_1'] = response_coding_train(df_tr, 'target', 'lyricist')\n",
    "X_lyricist_rs = np.array(df_tr[['prefix_0',  'prefix_1']])\n",
    "X_lyricist_rs.shape"
   ]
  },
  {
   "cell_type": "code",
   "execution_count": 129,
   "metadata": {},
   "outputs": [
    {
     "data": {
      "text/plain": [
       "(2556790, 2)"
      ]
     },
     "execution_count": 129,
     "metadata": {},
     "output_type": "execute_result"
    }
   ],
   "source": [
    "df_te['prefix_0'], df_te['prefix_1'] = response_coding_test(df_tr,df_te, 'target', 'lyricist')\n",
    "X_te_lyricist_rs = np.array(df_te[['prefix_0',  'prefix_1']])\n",
    "X_te_lyricist_rs.shape"
   ]
  },
  {
   "cell_type": "markdown",
   "metadata": {},
   "source": [
    "<h3>Response coding categorical features: 'country'</h3>"
   ]
  },
  {
   "cell_type": "code",
   "execution_count": 130,
   "metadata": {},
   "outputs": [
    {
     "data": {
      "text/plain": [
       "(7377409, 2)"
      ]
     },
     "execution_count": 130,
     "metadata": {},
     "output_type": "execute_result"
    }
   ],
   "source": [
    "df_tr['prefix_0'], df_tr['prefix_1'] = response_coding_train(df_tr, 'target',  'country')\n",
    "X_country_rs = np.array(df_tr[['prefix_0',  'prefix_1']])\n",
    "X_country_rs.shape"
   ]
  },
  {
   "cell_type": "code",
   "execution_count": 131,
   "metadata": {},
   "outputs": [
    {
     "data": {
      "text/plain": [
       "(2556790, 2)"
      ]
     },
     "execution_count": 131,
     "metadata": {},
     "output_type": "execute_result"
    }
   ],
   "source": [
    "df_te['prefix_0'], df_te['prefix_1'] = response_coding_test(df_tr,df_te, 'target', 'country')\n",
    "X_te_country_rs = np.array(df_te[['prefix_0',  'prefix_1']])\n",
    "X_te_country_rs.shape"
   ]
  },
  {
   "cell_type": "code",
   "execution_count": 132,
   "metadata": {},
   "outputs": [],
   "source": [
    "from scipy.sparse import hstack\n",
    "X_tr1 = hstack((X_systemtab_ohe , X_screenname_ohe,X_sourcetype_ohe,X_lang_ohe,\n",
    "X_city_ohe, X_gender_ohe,X_reg_via_ohe,X_gene_ids_rs,\n",
    "X_artist_rs,X_composer_rs,X_lyricist_rs,X_country_rs , np.array(df_tr[['song_length','bd','registration_year', 'registration_month', 'registration_date',\n",
    "       'expiration_year', 'expiration_month', 'song_year',\n",
    "       'user_song_agediff','song_count']]))).tocsr()\n",
    "X_te1 = hstack((X_te_systemtab_ohe, X_te_screenname_ohe, X_te_sourcetype_ohe, X_te_lang_ohe,\n",
    "X_te_city_ohe, X_te_gender_ohe,X_te_reg_via_ohe,X_te_gene_ids_rs,\n",
    "X_te_artist_rs,X_te_composer_rs,X_te_lyricist_rs,X_te_country_rs ,  np.array(df_te[['song_length','bd','registration_year', 'registration_month', 'registration_date',\n",
    "       'expiration_year', 'expiration_month', 'song_year',\n",
    "       'user_song_agediff','song_count']]))).tocsr()"
   ]
  },
  {
   "cell_type": "code",
   "execution_count": 133,
   "metadata": {},
   "outputs": [],
   "source": [
    "import scipy\n",
    "scipy.sparse.save_npz(\"X_tr1.npz\", X_tr1)\n",
    "scipy.sparse.save_npz(\"X_tr2.npz\", X_te1)"
   ]
  },
  {
   "cell_type": "code",
   "execution_count": 22,
   "metadata": {},
   "outputs": [],
   "source": [
    "import scipy.sparse\n",
    "import numpy as np\n",
    "X_tr1 = scipy.sparse.load_npz(\"X_tr1.npz\")\n",
    "X_te1 = scipy.sparse.load_npz(\"X_tr2.npz\")"
   ]
  },
  {
   "cell_type": "code",
   "execution_count": 23,
   "metadata": {},
   "outputs": [
    {
     "name": "stdout",
     "output_type": "stream",
     "text": [
      "(7377409, 92)\n",
      "(2556790, 92)\n"
     ]
    }
   ],
   "source": [
    "print(X_tr1.shape)\n",
    "print(X_te1.shape)"
   ]
  },
  {
   "cell_type": "markdown",
   "metadata": {},
   "source": [
    "### Training Encoded Data"
   ]
  },
  {
   "cell_type": "code",
   "execution_count": 24,
   "metadata": {},
   "outputs": [],
   "source": [
    "from sklearn.model_selection import train_test_split\n",
    "X_train1, X_test1, y_train1, y_test1 = train_test_split( X_tr1, Y, test_size=0.20, random_state=42)"
   ]
  },
  {
   "cell_type": "code",
   "execution_count": 43,
   "metadata": {},
   "outputs": [],
   "source": [
    "from sklearn.linear_model import LogisticRegression\n",
    "from sklearn.svm import SVC"
   ]
  },
  {
   "cell_type": "code",
   "execution_count": 40,
   "metadata": {},
   "outputs": [],
   "source": [
    "lr = LogisticRegression(C = 10, random_state = 12)"
   ]
  },
  {
   "cell_type": "code",
   "execution_count": 45,
   "metadata": {},
   "outputs": [],
   "source": [
    "rbf = SVC()"
   ]
  },
  {
   "cell_type": "code",
   "execution_count": null,
   "metadata": {},
   "outputs": [],
   "source": [
    "rbf.fit(X_train1, y_train1)"
   ]
  },
  {
   "cell_type": "code",
   "execution_count": 41,
   "metadata": {},
   "outputs": [
    {
     "data": {
      "text/plain": [
       "LogisticRegression(C=10, random_state=12)"
      ]
     },
     "execution_count": 41,
     "metadata": {},
     "output_type": "execute_result"
    }
   ],
   "source": [
    "lr.fit(X_train1, y_train1)"
   ]
  },
  {
   "cell_type": "code",
   "execution_count": 11,
   "metadata": {},
   "outputs": [],
   "source": [
    "import pickle\n",
    "filename = 'model_svc.sav'\n",
    "pickle.dump(svc, open(filename, 'wb'))"
   ]
  },
  {
   "cell_type": "code",
   "execution_count": null,
   "metadata": {},
   "outputs": [
    {
     "name": "stderr",
     "output_type": "stream",
     "text": [
      "[Parallel(n_jobs=1)]: Using backend SequentialBackend with 1 concurrent workers.\n"
     ]
    }
   ],
   "source": [
    "from sklearn.ensemble import RandomForestClassifier\n",
    "rf = RandomForestClassifier( random_state= 12, verbose= 1)\n",
    "rf.fit(X_train1,y_train1)"
   ]
  },
  {
   "cell_type": "code",
   "execution_count": null,
   "metadata": {},
   "outputs": [],
   "source": [
    "filename = 'model_rf.sav'\n",
    "pickle.dump(rf open(filename, 'wb'))"
   ]
  },
  {
   "cell_type": "code",
   "execution_count": 29,
   "metadata": {},
   "outputs": [],
   "source": [
    "from sklearn.metrics import roc_curve,auc"
   ]
  },
  {
   "cell_type": "code",
   "execution_count": 42,
   "metadata": {},
   "outputs": [
    {
     "name": "stdout",
     "output_type": "stream",
     "text": [
      "0.5\n"
     ]
    }
   ],
   "source": [
    "P_train = lr.predict(X_train1)\n",
    "fpr, tpr, thresholds = roc_curve(y_train1, P_train)\n",
    "auc_tr = auc(fpr, tpr)\n",
    "print(auc_tr)"
   ]
  },
  {
   "cell_type": "code",
   "execution_count": null,
   "metadata": {},
   "outputs": [],
   "source": [
    "P_train = rbf.predict(X_train1)\n",
    "fpr, tpr, thresholds = roc_curve(y_train1, P_train)\n",
    "auc_tr = auc(fpr, tpr)\n",
    "print(auc_tr)"
   ]
  },
  {
   "cell_type": "markdown",
   "metadata": {},
   "source": [
    "### Training Light GBM on Non-encoded train data"
   ]
  },
  {
   "cell_type": "code",
   "execution_count": 21,
   "metadata": {},
   "outputs": [
    {
     "data": {
      "text/plain": [
       "Index(['msno', 'song_id', 'source_system_tab', 'source_screen_name',\n",
       "       'source_type', 'target', 'song_length', 'genre_ids', 'artist_name',\n",
       "       'composer', 'lyricist', 'language', 'city', 'bd', 'gender',\n",
       "       'registered_via', 'name', 'country', 'membership_days',\n",
       "       'registration_year', 'registration_month', 'registration_date',\n",
       "       'expiration_year', 'expiration_month', 'song_year', 'user_song_agediff',\n",
       "       'song_count'],\n",
       "      dtype='object')"
      ]
     },
     "execution_count": 21,
     "metadata": {},
     "output_type": "execute_result"
    }
   ],
   "source": [
    "df_tr.columns"
   ]
  },
  {
   "cell_type": "code",
   "execution_count": 22,
   "metadata": {},
   "outputs": [],
   "source": [
    "X_org = df_tr.drop(['target'],axis = 1)"
   ]
  },
  {
   "cell_type": "code",
   "execution_count": 23,
   "metadata": {},
   "outputs": [],
   "source": [
    "from sklearn.model_selection import train_test_split\n",
    "X_train2, X_cv2, y_train2, y_cv2 = train_test_split( X_org, Y, test_size=0.20, random_state=42)"
   ]
  },
  {
   "cell_type": "code",
   "execution_count": 47,
   "metadata": {},
   "outputs": [],
   "source": [
    "params = {\n",
    "        'objective': 'binary',\n",
    "        'metric': 'binary_logloss',\n",
    "        'boosting': 'dart',\n",
    "        'learning_rate': 0.3 ,\n",
    "        'verbose': 0,\n",
    "        'num_leaves': 256,\n",
    "        'bagging_fraction': 0.95,\n",
    "        'bagging_freq': 1,\n",
    "        'bagging_seed': 1,\n",
    "        'feature_fraction': 0.9,\n",
    "        'feature_fraction_seed': 1,\n",
    "        'max_bin': 256,\n",
    "        'max_depth': 2*10,\n",
    "        'num_rounds': 1000,\n",
    "        'metric' : 'auc'\n",
    "    }"
   ]
  },
  {
   "cell_type": "code",
   "execution_count": null,
   "metadata": {},
   "outputs": [],
   "source": [
    "params1 = {\n",
    "        'num_leaves': [ 128, 256, 512, 1024, 2048, 4096],\n",
    "        'feature_fraction': [0.1,0.4,0.6,0.9],\n",
    "        'max_bin': [127, 255, 511]\n",
    "    }"
   ]
  },
  {
   "cell_type": "code",
   "execution_count": 25,
   "metadata": {},
   "outputs": [],
   "source": [
    "import lightgbm as lgb"
   ]
  },
  {
   "cell_type": "code",
   "execution_count": 48,
   "metadata": {},
   "outputs": [],
   "source": [
    "d_train = lgb.Dataset(X_train2, y_train2)\n",
    "d_cv = lgb.Dataset(X_cv2, y_cv2)"
   ]
  },
  {
   "cell_type": "code",
   "execution_count": 49,
   "metadata": {
    "scrolled": true
   },
   "outputs": [
    {
     "name": "stdout",
     "output_type": "stream",
     "text": [
      "[LightGBM] [Warning] Auto-choosing col-wise multi-threading, the overhead of testing was 0.281184 seconds.\n",
      "You can set `force_col_wise=true` to remove the overhead.\n",
      "[5]\tvalid_0's auc: 0.746839\n",
      "[10]\tvalid_0's auc: 0.762292\n",
      "[15]\tvalid_0's auc: 0.768997\n",
      "[20]\tvalid_0's auc: 0.774109\n",
      "[25]\tvalid_0's auc: 0.776784\n",
      "[30]\tvalid_0's auc: 0.779792\n",
      "[35]\tvalid_0's auc: 0.781094\n",
      "[40]\tvalid_0's auc: 0.783365\n",
      "[45]\tvalid_0's auc: 0.784814\n",
      "[50]\tvalid_0's auc: 0.786009\n",
      "[55]\tvalid_0's auc: 0.787423\n",
      "[60]\tvalid_0's auc: 0.787998\n",
      "[65]\tvalid_0's auc: 0.789344\n",
      "[70]\tvalid_0's auc: 0.791106\n",
      "[75]\tvalid_0's auc: 0.791685\n",
      "[80]\tvalid_0's auc: 0.792656\n",
      "[85]\tvalid_0's auc: 0.792667\n",
      "[90]\tvalid_0's auc: 0.79373\n",
      "[95]\tvalid_0's auc: 0.794278\n",
      "[100]\tvalid_0's auc: 0.795669\n",
      "[105]\tvalid_0's auc: 0.79583\n",
      "[110]\tvalid_0's auc: 0.796001\n",
      "[115]\tvalid_0's auc: 0.797212\n",
      "[120]\tvalid_0's auc: 0.797665\n",
      "[125]\tvalid_0's auc: 0.797757\n",
      "[130]\tvalid_0's auc: 0.798431\n",
      "[135]\tvalid_0's auc: 0.799336\n",
      "[140]\tvalid_0's auc: 0.799558\n",
      "[145]\tvalid_0's auc: 0.799519\n",
      "[150]\tvalid_0's auc: 0.799717\n",
      "[155]\tvalid_0's auc: 0.800346\n",
      "[160]\tvalid_0's auc: 0.800116\n",
      "[165]\tvalid_0's auc: 0.800614\n",
      "[170]\tvalid_0's auc: 0.801276\n",
      "[175]\tvalid_0's auc: 0.802165\n",
      "[180]\tvalid_0's auc: 0.802275\n",
      "[185]\tvalid_0's auc: 0.802597\n",
      "[190]\tvalid_0's auc: 0.803227\n",
      "[195]\tvalid_0's auc: 0.803703\n",
      "[200]\tvalid_0's auc: 0.804059\n",
      "[205]\tvalid_0's auc: 0.804201\n",
      "[210]\tvalid_0's auc: 0.804284\n",
      "[215]\tvalid_0's auc: 0.804876\n",
      "[220]\tvalid_0's auc: 0.805223\n",
      "[225]\tvalid_0's auc: 0.805286\n",
      "[230]\tvalid_0's auc: 0.805585\n",
      "[235]\tvalid_0's auc: 0.806295\n",
      "[240]\tvalid_0's auc: 0.806787\n",
      "[245]\tvalid_0's auc: 0.806742\n",
      "[250]\tvalid_0's auc: 0.806938\n",
      "[255]\tvalid_0's auc: 0.807137\n",
      "[260]\tvalid_0's auc: 0.807273\n",
      "[265]\tvalid_0's auc: 0.807744\n",
      "[270]\tvalid_0's auc: 0.807889\n",
      "[275]\tvalid_0's auc: 0.808083\n",
      "[280]\tvalid_0's auc: 0.80819\n",
      "[285]\tvalid_0's auc: 0.808517\n",
      "[290]\tvalid_0's auc: 0.808797\n",
      "[295]\tvalid_0's auc: 0.808982\n",
      "[300]\tvalid_0's auc: 0.809174\n",
      "[305]\tvalid_0's auc: 0.809215\n",
      "[310]\tvalid_0's auc: 0.809354\n",
      "[315]\tvalid_0's auc: 0.809824\n",
      "[320]\tvalid_0's auc: 0.810343\n",
      "[325]\tvalid_0's auc: 0.810462\n",
      "[330]\tvalid_0's auc: 0.810892\n",
      "[335]\tvalid_0's auc: 0.810868\n",
      "[340]\tvalid_0's auc: 0.811029\n",
      "[345]\tvalid_0's auc: 0.811125\n",
      "[350]\tvalid_0's auc: 0.811094\n",
      "[355]\tvalid_0's auc: 0.811224\n",
      "[360]\tvalid_0's auc: 0.811344\n",
      "[365]\tvalid_0's auc: 0.811438\n",
      "[370]\tvalid_0's auc: 0.81161\n",
      "[375]\tvalid_0's auc: 0.811742\n",
      "[380]\tvalid_0's auc: 0.811734\n",
      "[385]\tvalid_0's auc: 0.811926\n",
      "[390]\tvalid_0's auc: 0.812041\n",
      "[395]\tvalid_0's auc: 0.812194\n",
      "[400]\tvalid_0's auc: 0.81234\n",
      "[405]\tvalid_0's auc: 0.812485\n",
      "[410]\tvalid_0's auc: 0.812838\n",
      "[415]\tvalid_0's auc: 0.813022\n",
      "[420]\tvalid_0's auc: 0.813027\n",
      "[425]\tvalid_0's auc: 0.813386\n",
      "[430]\tvalid_0's auc: 0.813636\n",
      "[435]\tvalid_0's auc: 0.813778\n",
      "[440]\tvalid_0's auc: 0.813918\n",
      "[445]\tvalid_0's auc: 0.814205\n",
      "[450]\tvalid_0's auc: 0.814308\n",
      "[455]\tvalid_0's auc: 0.814394\n",
      "[460]\tvalid_0's auc: 0.814793\n",
      "[465]\tvalid_0's auc: 0.814878\n",
      "[470]\tvalid_0's auc: 0.81497\n",
      "[475]\tvalid_0's auc: 0.815137\n",
      "[480]\tvalid_0's auc: 0.815218\n",
      "[485]\tvalid_0's auc: 0.815358\n",
      "[490]\tvalid_0's auc: 0.815444\n",
      "[495]\tvalid_0's auc: 0.815535\n",
      "[500]\tvalid_0's auc: 0.815747\n",
      "[505]\tvalid_0's auc: 0.815844\n",
      "[510]\tvalid_0's auc: 0.815991\n",
      "[515]\tvalid_0's auc: 0.816049\n",
      "[520]\tvalid_0's auc: 0.816019\n",
      "[525]\tvalid_0's auc: 0.816111\n",
      "[530]\tvalid_0's auc: 0.816286\n",
      "[535]\tvalid_0's auc: 0.816315\n",
      "[540]\tvalid_0's auc: 0.81636\n",
      "[545]\tvalid_0's auc: 0.816383\n",
      "[550]\tvalid_0's auc: 0.816428\n",
      "[555]\tvalid_0's auc: 0.816544\n",
      "[560]\tvalid_0's auc: 0.816849\n",
      "[565]\tvalid_0's auc: 0.816923\n",
      "[570]\tvalid_0's auc: 0.816957\n",
      "[575]\tvalid_0's auc: 0.816968\n",
      "[580]\tvalid_0's auc: 0.816934\n",
      "[585]\tvalid_0's auc: 0.81701\n",
      "[590]\tvalid_0's auc: 0.817026\n",
      "[595]\tvalid_0's auc: 0.817136\n",
      "[600]\tvalid_0's auc: 0.817515\n",
      "[605]\tvalid_0's auc: 0.817562\n",
      "[610]\tvalid_0's auc: 0.817521\n",
      "[615]\tvalid_0's auc: 0.817575\n",
      "[620]\tvalid_0's auc: 0.817734\n",
      "[625]\tvalid_0's auc: 0.817767\n",
      "[630]\tvalid_0's auc: 0.817865\n",
      "[635]\tvalid_0's auc: 0.817976\n",
      "[640]\tvalid_0's auc: 0.818105\n",
      "[645]\tvalid_0's auc: 0.818149\n",
      "[650]\tvalid_0's auc: 0.818186\n",
      "[655]\tvalid_0's auc: 0.818239\n",
      "[660]\tvalid_0's auc: 0.818176\n",
      "[665]\tvalid_0's auc: 0.818314\n",
      "[670]\tvalid_0's auc: 0.818592\n",
      "[675]\tvalid_0's auc: 0.81874\n",
      "[680]\tvalid_0's auc: 0.818702\n",
      "[685]\tvalid_0's auc: 0.818715\n",
      "[690]\tvalid_0's auc: 0.818797\n",
      "[695]\tvalid_0's auc: 0.818779\n",
      "[700]\tvalid_0's auc: 0.818799\n",
      "[705]\tvalid_0's auc: 0.818768\n",
      "[710]\tvalid_0's auc: 0.818834\n",
      "[715]\tvalid_0's auc: 0.818908\n",
      "[720]\tvalid_0's auc: 0.81891\n",
      "[725]\tvalid_0's auc: 0.819039\n",
      "[730]\tvalid_0's auc: 0.81916\n",
      "[735]\tvalid_0's auc: 0.819201\n",
      "[740]\tvalid_0's auc: 0.819211\n",
      "[745]\tvalid_0's auc: 0.819303\n",
      "[750]\tvalid_0's auc: 0.819327\n",
      "[755]\tvalid_0's auc: 0.819409\n",
      "[760]\tvalid_0's auc: 0.819512\n",
      "[765]\tvalid_0's auc: 0.819787\n",
      "[770]\tvalid_0's auc: 0.819814\n",
      "[775]\tvalid_0's auc: 0.819867\n",
      "[780]\tvalid_0's auc: 0.819939\n",
      "[785]\tvalid_0's auc: 0.820078\n",
      "[790]\tvalid_0's auc: 0.820238\n",
      "[795]\tvalid_0's auc: 0.820378\n",
      "[800]\tvalid_0's auc: 0.820481\n",
      "[805]\tvalid_0's auc: 0.820496\n",
      "[810]\tvalid_0's auc: 0.820706\n",
      "[815]\tvalid_0's auc: 0.820717\n",
      "[820]\tvalid_0's auc: 0.820762\n",
      "[825]\tvalid_0's auc: 0.820873\n",
      "[830]\tvalid_0's auc: 0.82091\n",
      "[835]\tvalid_0's auc: 0.820937\n",
      "[840]\tvalid_0's auc: 0.820954\n",
      "[845]\tvalid_0's auc: 0.82096\n",
      "[850]\tvalid_0's auc: 0.820998\n",
      "[855]\tvalid_0's auc: 0.821016\n",
      "[860]\tvalid_0's auc: 0.820988\n",
      "[865]\tvalid_0's auc: 0.821039\n",
      "[870]\tvalid_0's auc: 0.821065\n",
      "[875]\tvalid_0's auc: 0.821111\n",
      "[880]\tvalid_0's auc: 0.821211\n",
      "[885]\tvalid_0's auc: 0.821192\n",
      "[890]\tvalid_0's auc: 0.821277\n",
      "[895]\tvalid_0's auc: 0.821386\n",
      "[900]\tvalid_0's auc: 0.821436\n",
      "[905]\tvalid_0's auc: 0.821453\n",
      "[910]\tvalid_0's auc: 0.821416\n",
      "[915]\tvalid_0's auc: 0.821481\n",
      "[920]\tvalid_0's auc: 0.821458\n",
      "[925]\tvalid_0's auc: 0.821439\n",
      "[930]\tvalid_0's auc: 0.821495\n",
      "[935]\tvalid_0's auc: 0.821599\n",
      "[940]\tvalid_0's auc: 0.821559\n",
      "[945]\tvalid_0's auc: 0.82152\n",
      "[950]\tvalid_0's auc: 0.821527\n",
      "[955]\tvalid_0's auc: 0.821592\n",
      "[960]\tvalid_0's auc: 0.821617\n",
      "[965]\tvalid_0's auc: 0.821708\n",
      "[970]\tvalid_0's auc: 0.821672\n",
      "[975]\tvalid_0's auc: 0.82169\n",
      "[980]\tvalid_0's auc: 0.821769\n",
      "[985]\tvalid_0's auc: 0.821839\n",
      "[990]\tvalid_0's auc: 0.821901\n",
      "[995]\tvalid_0's auc: 0.821976\n",
      "[1000]\tvalid_0's auc: 0.821924\n"
     ]
    }
   ],
   "source": [
    "lgb_model = lgb.train(params, train_set= d_train,  valid_sets=d_cv, verbose_eval=5)"
   ]
  },
  {
   "cell_type": "code",
   "execution_count": 50,
   "metadata": {},
   "outputs": [],
   "source": [
    "P_train = lgb_model.predict(X_train2)"
   ]
  },
  {
   "cell_type": "code",
   "execution_count": 51,
   "metadata": {},
   "outputs": [],
   "source": [
    "from sklearn.metrics import roc_curve , auc"
   ]
  },
  {
   "cell_type": "code",
   "execution_count": 52,
   "metadata": {},
   "outputs": [
    {
     "name": "stdout",
     "output_type": "stream",
     "text": [
      "0.8725108696989217\n"
     ]
    }
   ],
   "source": [
    "fpr, tpr, thresholds = roc_curve(y_train2, P_train)\n",
    "auc_tr = auc(fpr, tpr)\n",
    "print(auc_tr)"
   ]
  },
  {
   "cell_type": "code",
   "execution_count": 53,
   "metadata": {},
   "outputs": [],
   "source": [
    "p_test = lgb_model.predict(df_te)"
   ]
  },
  {
   "cell_type": "code",
   "execution_count": 54,
   "metadata": {},
   "outputs": [],
   "source": [
    "sub_sample = pd.read_csv('sample_submission.csv')"
   ]
  },
  {
   "cell_type": "code",
   "execution_count": 55,
   "metadata": {},
   "outputs": [],
   "source": [
    "id_ = np.array(sub_sample['id'])"
   ]
  },
  {
   "cell_type": "code",
   "execution_count": 56,
   "metadata": {},
   "outputs": [],
   "source": [
    "subm1 = pd.DataFrame()\n",
    "subm1['id'] = id_\n",
    "subm1['target'] = p_test\n",
    "subm1.to_csv('subm3.csv.gz', compression = 'gzip', index=False, float_format = '%.5f')"
   ]
  }
 ],
 "metadata": {
  "kernelspec": {
   "display_name": "Python 3",
   "language": "python",
   "name": "python3"
  },
  "language_info": {
   "codemirror_mode": {
    "name": "ipython",
    "version": 3
   },
   "file_extension": ".py",
   "mimetype": "text/x-python",
   "name": "python",
   "nbconvert_exporter": "python",
   "pygments_lexer": "ipython3",
   "version": "3.6.9"
  }
 },
 "nbformat": 4,
 "nbformat_minor": 4
}
